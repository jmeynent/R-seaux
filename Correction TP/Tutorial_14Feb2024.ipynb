{
 "cells": [
  {
   "cell_type": "markdown",
   "metadata": {},
   "source": [
    "# Tutorial, 14 February 2024"
   ]
  },
  {
   "cell_type": "code",
   "execution_count": null,
   "metadata": {},
   "outputs": [],
   "source": [
    "# import networkx (and other useful packages)\n",
    "import networkx as nx\n",
    "import matplotlib.pyplot as plt\n",
    "import pandas as pd\n",
    "import numpy as np"
   ]
  },
  {
   "cell_type": "markdown",
   "metadata": {},
   "source": [
    "## Matching graphs and node attributes"
   ]
  },
  {
   "cell_type": "code",
   "execution_count": null,
   "metadata": {},
   "outputs": [],
   "source": [
    "########### Graphs from empirical data ##############\n",
    "\n",
    "# generate new digraph by reading edgelist (from empirical data)\n",
    "# it is a \"DiGraph\" (not \"Graph\") because it is directed\n",
    "ELadviceG = nx.read_edgelist('ELadvice_edgelist.txt',comments=\"node\",create_using=nx.DiGraph(),nodetype=int)"
   ]
  },
  {
   "cell_type": "code",
   "execution_count": null,
   "metadata": {},
   "outputs": [],
   "source": [
    "### Alternative way to read the edgelist (1st step)\n",
    "advice = pd.read_csv('ELadvice_edgelist.txt', sep='\\t')\n",
    "advice\n"
   ]
  },
  {
   "cell_type": "code",
   "execution_count": null,
   "metadata": {},
   "outputs": [],
   "source": [
    "### Alternative way to read the edgelist (2nd step)\n",
    "ELadviceG1 = nx.from_pandas_edgelist(advice, 'node1', 'node2', create_using=nx.DiGraph())"
   ]
  },
  {
   "cell_type": "code",
   "execution_count": null,
   "metadata": {},
   "outputs": [],
   "source": [
    "ELnodes = pd.read_table(\"ELnodeAttributes.txt\", sep='\\t')\n",
    "print(ELnodes)"
   ]
  },
  {
   "cell_type": "code",
   "execution_count": null,
   "metadata": {},
   "outputs": [],
   "source": [
    "# match nodes of digraph with attributes of nodes\n",
    "ELNodeData = ELnodes.set_index('Node').to_dict('index').items()\n",
    "ELadviceG.add_nodes_from(ELNodeData)\n",
    "\n",
    "# view results\n",
    "print(ELadviceG.nodes(data=True))\n"
   ]
  },
  {
   "cell_type": "code",
   "execution_count": null,
   "metadata": {},
   "outputs": [],
   "source": [
    "# view results (2)\n",
    "print(ELadviceG.edges(data=True))"
   ]
  },
  {
   "cell_type": "code",
   "execution_count": null,
   "metadata": {},
   "outputs": [],
   "source": [
    "# to view attributes\n",
    "\n",
    "# for example, 'Office'\n",
    "offices = nx.get_node_attributes(ELadviceG,'Office')\n",
    "print(offices)\n",
    "# to view the value for a single node (for example, node n. 4)\n",
    "offices[4]\n"
   ]
  },
  {
   "cell_type": "code",
   "execution_count": null,
   "metadata": {},
   "outputs": [],
   "source": [
    "######################### Mini-digression ##############################\n",
    "\n",
    "### A separate file with nodes (possibly with attributes)\n",
    "### must be imported separately from the edge list, and 'added' to the graph\n",
    "### if there are isolates (which do not appear in edgelists)\n",
    "\n",
    "# For example, import friendship graph\n",
    "ELfriendG = nx.read_edgelist('ELfriend_edgelist.txt',comments=\"node\",create_using=nx.DiGraph(),nodetype=int)\n",
    "# see nodes\n",
    "ELfriendG.nodes()"
   ]
  },
  {
   "cell_type": "code",
   "execution_count": null,
   "metadata": {},
   "outputs": [],
   "source": [
    "# how many nodes?\n",
    "len(ELfriendG.nodes())"
   ]
  },
  {
   "cell_type": "code",
   "execution_count": null,
   "metadata": {},
   "outputs": [],
   "source": [
    "# now add attributes\n",
    "ELfriendG.add_nodes_from(ELNodeData)\n",
    "\n",
    "# how many nodes now?\n",
    "len(ELfriendG.nodes())\n",
    "\n",
    "############### end of digression ##############"
   ]
  },
  {
   "cell_type": "markdown",
   "metadata": {},
   "source": [
    "## Local structures"
   ]
  },
  {
   "cell_type": "code",
   "execution_count": null,
   "metadata": {},
   "outputs": [],
   "source": [
    "##### Isolates (components consisting in 1 node) ### \n",
    "list(nx.isolates(ELadviceG))"
   ]
  },
  {
   "cell_type": "code",
   "execution_count": null,
   "metadata": {},
   "outputs": [],
   "source": [
    "### NB but if we use the friendhsip graph instead... ### \n",
    "list(nx.isolates(ELfriendG))"
   ]
  },
  {
   "cell_type": "code",
   "execution_count": null,
   "metadata": {},
   "outputs": [],
   "source": [
    "##### Dyads: reciprocity (only interesting in digraph; not relevant in undirected graphs)\n",
    "\n",
    "nx.reciprocity(ELadviceG)"
   ]
  },
  {
   "cell_type": "code",
   "execution_count": null,
   "metadata": {},
   "outputs": [],
   "source": [
    "##### Triads: global transitivity\n",
    "print(nx.transitivity(ELadviceG)) # this is the global clustering coefficient"
   ]
  },
  {
   "cell_type": "code",
   "execution_count": null,
   "metadata": {},
   "outputs": [],
   "source": [
    "##### Triads: local transitivity\n",
    "print(nx.clustering(ELadviceG))  # measure is by node (local clustering coefficient)\n",
    "## take the average:\n",
    "print(nx.average_clustering(ELadviceG)) "
   ]
  },
  {
   "cell_type": "markdown",
   "metadata": {},
   "source": [
    "## Global structures: cohesion"
   ]
  },
  {
   "cell_type": "code",
   "execution_count": null,
   "metadata": {},
   "outputs": [],
   "source": [
    "##### Density\n",
    "nx.density(ELadviceG)"
   ]
  },
  {
   "cell_type": "code",
   "execution_count": null,
   "metadata": {},
   "outputs": [],
   "source": [
    "### find cliques \n",
    "\n",
    "# the networkx algorithm is only for undirected graphs\n",
    "# so we need to take undirected representation\n",
    "ELadviceUG = nx.DiGraph.to_undirected(ELadviceG)\n",
    "\n",
    "list(nx.find_cliques(ELadviceUG))"
   ]
  },
  {
   "cell_type": "markdown",
   "metadata": {},
   "source": [
    "## Global structures: connectivity"
   ]
  },
  {
   "cell_type": "code",
   "execution_count": null,
   "metadata": {},
   "outputs": [],
   "source": [
    "################## Basic connectivity measures\n",
    "\n",
    "# is the graph connected?\n",
    "print(nx.is_strongly_connected(ELadviceG)) # \"strongly\" because it is a digraph\n",
    "# with an undirected graph, nx.is_connected(G)\n",
    "\n",
    "# if \"strongly\" is false, try with \"weakly\":\n",
    "print(nx.is_weakly_connected(ELadviceG))"
   ]
  },
  {
   "cell_type": "code",
   "execution_count": null,
   "metadata": {},
   "outputs": [],
   "source": [
    "## diameter\n",
    "\n",
    "# because graph is not strongly connected (infinite distances)\n",
    "# we need to take its undirected representation\n",
    "# ELadviceUG = nx.DiGraph.to_undirected(ELadviceG)\n",
    "print(nx.diameter(ELadviceUG))\n"
   ]
  },
  {
   "cell_type": "code",
   "execution_count": null,
   "metadata": {},
   "outputs": [],
   "source": [
    "## average shortest path length\n",
    "# because graph is not strongly connected (infinite distances)\n",
    "# we need to take its undirected representation\n",
    "# ELadviceUG = nx.DiGraph.to_undirected(ELadviceG)\n",
    "nx.average_shortest_path_length(ELadviceUG)\n"
   ]
  },
  {
   "cell_type": "markdown",
   "metadata": {},
   "source": [
    "## Centrality"
   ]
  },
  {
   "cell_type": "code",
   "execution_count": null,
   "metadata": {},
   "outputs": [],
   "source": [
    "################# Centrality\n",
    "\n",
    "# degree centrality (without considering directed edges)\n",
    "print(nx.degree_centrality(ELadviceG))\n",
    "\n",
    "# indegree centrality (incoming ties)\n",
    "print(nx.in_degree_centrality(ELadviceG))\n",
    "\n",
    "# indegree centrality (outgoing ties)\n",
    "print(nx.out_degree_centrality(ELadviceG))"
   ]
  },
  {
   "cell_type": "code",
   "execution_count": null,
   "metadata": {},
   "outputs": [],
   "source": [
    "# Eigenvector centrality\n",
    "\n",
    "nx.eigenvector_centrality(ELadviceG)\n",
    "\n",
    "# This measure works only with undirected graphs.\n",
    "# For directed graphs, networkx takes the “left” eigenvector centrality\n",
    "# which corresponds to the in-edges in the graph.\n",
    "# For out-edges eigenvector centrality first reverse the graph with G.reverse()\n",
    "# (it is the transpose of the adjacency matrix)"
   ]
  },
  {
   "cell_type": "code",
   "execution_count": null,
   "metadata": {},
   "outputs": [],
   "source": [
    "# Closeness centrality\n",
    "nx.closeness_centrality(ELadviceG)\n",
    "\n",
    "# The closeness centrality uses inward distance to a node, not outward.\n",
    "# If you want to use outword distances apply the function to G.reverse()"
   ]
  },
  {
   "cell_type": "code",
   "execution_count": null,
   "metadata": {},
   "outputs": [],
   "source": [
    "# Betweenness centrality\n",
    "nx.betweenness_centrality(ELadviceG)\n",
    "\n",
    "# Betweenness values are normalized by 2/((n-1)(n-2)) for graphs,\n",
    "# and 1/((n-1)(n-2)) for directed graphs, where n is the number of nodes "
   ]
  },
  {
   "cell_type": "code",
   "execution_count": null,
   "metadata": {},
   "outputs": [],
   "source": [
    "#### Let's briefly look at degree distributions\n",
    "indegrees = [val for (node, val) in ELadviceG.in_degree()]\n",
    "outdegrees = [val for (node, val) in ELadviceG.out_degree()]\n",
    "\n",
    "In = np.array(indegrees)\n",
    "Out = np.array(outdegrees)\n",
    "\n",
    "plt.hist([In, Out], bins=5, label=['Indegrees', 'Outdegrees'])\n",
    "plt.legend(loc='upper right')\n",
    "plt.show()\n",
    "\n"
   ]
  },
  {
   "cell_type": "markdown",
   "metadata": {},
   "source": [
    "## Visualization"
   ]
  },
  {
   "cell_type": "code",
   "execution_count": null,
   "metadata": {},
   "outputs": [],
   "source": [
    "#### Let us look at visualization\n",
    "\n",
    "# draw graph\n",
    "nx.draw(ELadviceG)\n",
    "plt.show()"
   ]
  },
  {
   "cell_type": "code",
   "execution_count": null,
   "metadata": {},
   "outputs": [],
   "source": [
    "# improve visualization\n",
    "\n",
    "# change layout, eg Fruchterman Reingold\n",
    "# reduce node size, make edges more transparent to improve visibility\n",
    "nx.draw(ELadviceG, with_labels=False, node_size=30, node_color=\"red\", edge_color = \"gray\",\n",
    "        pos=nx.fruchterman_reingold_layout(ELadviceG))\n",
    "\n",
    "# autres layouts to try: spring_layout, spectral_layout, random_layout, circular_layout... \n"
   ]
  },
  {
   "cell_type": "code",
   "execution_count": null,
   "metadata": {},
   "outputs": [],
   "source": [
    "### use different colors to represent attributes, eg Office\n",
    "# Office has 3 values only (categorical variable)\n",
    "\n",
    "# create empty list for node colors\n",
    "node_color = []\n",
    "\n",
    "# for each node in the graph\n",
    "for node in ELadviceG.nodes(data=True):\n",
    "\n",
    "    # if the node has the attribute Office 1\n",
    "    if node[1]['Office']==1:\n",
    "        node_color.append('blue')\n",
    "        \n",
    "    # if the node has the attribute Office 2\n",
    "    elif node[1]['Office']==2:\n",
    "        node_color.append('red')\n",
    "\n",
    "    # if the node has the attribute office 3\n",
    "    elif node[1]['Office']==3:\n",
    "        node_color.append('yellow')\n",
    "\n",
    "    # draw graph with node attribute color\n",
    "nx.draw(ELadviceG, with_labels=False, node_size=25, node_color=node_color, edge_color = \"gray\")\n"
   ]
  },
  {
   "cell_type": "code",
   "execution_count": null,
   "metadata": {},
   "outputs": [],
   "source": [
    "# change node size to reflect indegree\n",
    "\n",
    "indeg = ELadviceG.in_degree   # sets up the indegree view\n",
    "indegs = [d for n, d in indeg]   # gets all nodes' degree values \n",
    "\n",
    "# draw plot (color = office)\n",
    "nx.draw(ELadviceG, pos=nx.fruchterman_reingold_layout(ELadviceG), with_labels=False,\n",
    "        node_color=node_color, edge_color = \"gray\", \n",
    "        node_size=indegs)\n",
    "plt.show()\n",
    "\n",
    "# Exercise: do the same for outdegree"
   ]
  },
  {
   "cell_type": "code",
   "execution_count": null,
   "metadata": {},
   "outputs": [],
   "source": [
    "###### For better visualization\n",
    "## export graph in Gephi format\n",
    "\n",
    "nx.write_gexf(ELadviceG, 'ELadviceG.gexf')"
   ]
  },
  {
   "cell_type": "markdown",
   "metadata": {},
   "source": [
    "## Homework for next session\n",
    "\n",
    "Re-do the same with ELfriend and ELcowork: create graph objects, add attributes, analyze\n",
    "\n",
    "Careful: ELfriend is an asymmetric matrix (like ELadvice) while ELcowork is symmetric\n",
    "\n",
    "Also: mind the presence of isolates\n"
   ]
  },
  {
   "cell_type": "code",
   "execution_count": null,
   "metadata": {},
   "outputs": [],
   "source": []
  }
 ],
 "metadata": {
  "kernelspec": {
   "display_name": "Python 3 (ipykernel)",
   "language": "python",
   "name": "python3"
  },
  "language_info": {
   "codemirror_mode": {
    "name": "ipython",
    "version": 3
   },
   "file_extension": ".py",
   "mimetype": "text/x-python",
   "name": "python",
   "nbconvert_exporter": "python",
   "pygments_lexer": "ipython3",
   "version": "3.11.6"
  }
 },
 "nbformat": 4,
 "nbformat_minor": 4
}
