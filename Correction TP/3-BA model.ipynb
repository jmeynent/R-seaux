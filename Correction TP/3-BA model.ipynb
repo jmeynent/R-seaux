{
 "cells": [
  {
   "cell_type": "code",
   "execution_count": 1,
   "metadata": {},
   "outputs": [],
   "source": [
    "import networkx as nx\n",
    "import random\n",
    "import numpy as np\n",
    "import matplotlib.pyplot as plt"
   ]
  },
  {
   "cell_type": "markdown",
   "metadata": {},
   "source": [
    "# Roulette wheel selection\n",
    "how to select an element of a vector each element having a different fitness value"
   ]
  },
  {
   "cell_type": "code",
   "execution_count": 2,
   "metadata": {},
   "outputs": [],
   "source": [
    "# a vector of fitness values (in our cases the degrees)\n",
    "k=[5,7,3,1,9,20,0,3,1]"
   ]
  },
  {
   "cell_type": "code",
   "execution_count": 3,
   "metadata": {},
   "outputs": [
    {
     "name": "stdout",
     "output_type": "stream",
     "text": [
      "[0.10204081632653061, 0.14285714285714285, 0.061224489795918366, 0.02040816326530612, 0.1836734693877551, 0.40816326530612246, 0.0, 0.061224489795918366, 0.02040816326530612]\n"
     ]
    }
   ],
   "source": [
    "# 1) create the normalized vector\n",
    "sumK=sum(k)\n",
    "normK=[i/sumK for i in k]\n",
    "\n",
    "print (normK)"
   ]
  },
  {
   "cell_type": "code",
   "execution_count": 9,
   "metadata": {},
   "outputs": [
    {
     "data": {
      "text/plain": [
       "1"
      ]
     },
     "execution_count": 9,
     "metadata": {},
     "output_type": "execute_result"
    }
   ],
   "source": [
    "# 2) select an element according to the probabilities values in normK\n",
    "np.random.choice(len(normK), p=normK)"
   ]
  },
  {
   "cell_type": "code",
   "execution_count": 10,
   "metadata": {},
   "outputs": [
    {
     "data": {
      "image/png": "[encoded data removed]",
      "text/plain": [
       "<Figure size 432x288 with 1 Axes>"
      ]
     },
     "metadata": {
      "needs_background": "light"
     },
     "output_type": "display_data"
    }
   ],
   "source": [
    "ll=[np.random.choice(len(normK), p=normK) for i in range(1000)]\n",
    "plt.hist(ll, bins=range(len(k)),edgecolor='white')\n",
    "\n",
    "yy,xx=np.histogram(ll, bins=range(len(k)))\n",
    "xx=range(len(k)-1)\n",
    "for (u,v,t) in zip(xx,yy,normK):\n",
    "    plt.text(u+0.2,v+10,round(t, 2))\n",
    "plt.show()\n",
    "\n"
   ]
  },
  {
   "cell_type": "code",
   "execution_count": 11,
   "metadata": {},
   "outputs": [],
   "source": [
    "def roulette_wheel_selection(vecFit,m):\n",
    "    #make a deep copy of the input vector\n",
    "    v=[i for i in vecFit]\n",
    "    #calculate the normalized vector\n",
    "    fitNorm=[i/float(sum(v)) for i in v]\n",
    "    ll=[]\n",
    "    for i in range(m):\n",
    "        ch=np.random.choice(len(fitNorm), p=fitNorm)\n",
    "        ll.append(ch)\n",
    "        v[ch]=0\n",
    "        fitNorm=[i/float(sum(v)) for i in v]\n",
    "    return(ll)"
   ]
  },
  {
   "cell_type": "code",
   "execution_count": 13,
   "metadata": {},
   "outputs": [
    {
     "data": {
      "text/plain": [
       "[5, 7, 1, 0]"
      ]
     },
     "execution_count": 13,
     "metadata": {},
     "output_type": "execute_result"
    }
   ],
   "source": [
    "roulette_wheel_selection(k,4)"
   ]
  },
  {
   "cell_type": "markdown",
   "metadata": {},
   "source": [
    "# MANUAL GENERATION"
   ]
  },
  {
   "cell_type": "code",
   "execution_count": 14,
   "metadata": {},
   "outputs": [],
   "source": [
    "#parameters\n",
    "Nini=5\n",
    "Nmax=1000\n",
    "m=3"
   ]
  },
  {
   "cell_type": "code",
   "execution_count": 15,
   "metadata": {},
   "outputs": [],
   "source": [
    "#initialization\n",
    "G=nx.complete_graph(Nini)\n",
    "#node attachment loop:\n",
    "for t in range(Nini+1,Nmax):\n",
    "    listNodes=list(G.nodes())\n",
    "    listk=[G.degree(n) for n in G.nodes()]\n",
    "    #select new edges\n",
    "    newTargets=roulette_wheel_selection(listk,3)\n",
    "    newEdges=[(t,i) for i in newTargets]\n",
    "    G.add_edges_from(newEdges)"
   ]
  },
  {
   "cell_type": "code",
   "execution_count": 16,
   "metadata": {},
   "outputs": [],
   "source": [
    "k=[G.degree(n) for n in G.nodes()]"
   ]
  },
  {
   "cell_type": "code",
   "execution_count": 17,
   "metadata": {},
   "outputs": [],
   "source": [
    "def logBinning(degreeList,nbin):\n",
    "    kmin=min(degreeList)\n",
    "    kmax=max(degreeList)\n",
    "    logBins = np.logspace(np.log10(kmin), np.log10(kmax),num=nbin)\n",
    "    logBinDensity, binedges = np.histogram(degreeList, bins=logBins, density=True)\n",
    "    logBins = np.delete(logBins, -1)\n",
    "    return logBinDensity, logBins"
   ]
  },
  {
   "cell_type": "code",
   "execution_count": 18,
   "metadata": {},
   "outputs": [
    {
     "data": {
      "image/png": "[encoded data removed]",
      "text/plain": [
       "<Figure size 432x288 with 1 Axes>"
      ]
     },
     "metadata": {
      "needs_background": "light"
     },
     "output_type": "display_data"
    }
   ],
   "source": [
    "y,x=logBinning(np.array(k),20)\n",
    "plt.semilogy(x,y,'o',markersize=10)\n",
    "plt.xlabel('k',size=15)\n",
    "plt.ylabel('P(k)',size=15)\n",
    "plt.show()"
   ]
  },
  {
   "cell_type": "code",
   "execution_count": 20,
   "metadata": {},
   "outputs": [
    {
     "name": "stderr",
     "output_type": "stream",
     "text": [
      "<ipython-input-20-2f0c11ecc157>:5: UserWarning: Attempted to set non-positive left xlim on a log-scaled axis.\n",
      "Invalid limit will be ignored.\n",
      "  plt.xlim(0,1000)\n"
     ]
    },
    {
     "data": {
      "image/png": "[encoded data removed]",
      "text/plain": [
       "<Figure size 432x288 with 1 Axes>"
      ]
     },
     "metadata": {
      "needs_background": "light"
     },
     "output_type": "display_data"
    }
   ],
   "source": [
    "y,x=logBinning(np.array(k),20)\n",
    "plt.loglog(x,y,'o',markersize=10)\n",
    "plt.xlabel('k',size=15)\n",
    "plt.ylabel('P(k)',size=15)\n",
    "plt.xlim(0,1000)\n",
    "plt.show()"
   ]
  },
  {
   "cell_type": "markdown",
   "metadata": {},
   "source": [
    "#### IT IS A POWER LAW!"
   ]
  },
  {
   "cell_type": "markdown",
   "metadata": {},
   "source": [
    "# NETWROKX BA GRAPH GENERATOR"
   ]
  },
  {
   "cell_type": "code",
   "execution_count": 21,
   "metadata": {},
   "outputs": [],
   "source": [
    "# To generate a BA graph with 1000 nodes adding 3 new links at each iteration:\n",
    "G=nx.barabasi_albert_graph(10000,3)"
   ]
  },
  {
   "cell_type": "code",
   "execution_count": 22,
   "metadata": {},
   "outputs": [],
   "source": [
    "# calculate the exponent of the powerlaw\n",
    "from scipy.optimize import curve_fit\n",
    "\n",
    "def power_law (x, m, c):\n",
    "    return x**m * c\n",
    "\n"
   ]
  },
  {
   "cell_type": "code",
   "execution_count": 23,
   "metadata": {},
   "outputs": [],
   "source": [
    "k=[G.degree(n) for n in G.nodes()]\n",
    "y,x=logBinning(np.array(k),20)\n"
   ]
  },
  {
   "cell_type": "code",
   "execution_count": 25,
   "metadata": {},
   "outputs": [
    {
     "name": "stdout",
     "output_type": "stream",
     "text": [
      "[-3.24393329 17.23924728]\n"
     ]
    }
   ],
   "source": [
    "popt, pcov = curve_fit(power_law, x, y)\n",
    "print (popt)"
   ]
  },
  {
   "cell_type": "code",
   "execution_count": 26,
   "metadata": {},
   "outputs": [
    {
     "data": {
      "image/png": "[encoded data removed]",
      "text/plain": [
       "<Figure size 432x288 with 1 Axes>"
      ]
     },
     "metadata": {
      "needs_background": "light"
     },
     "output_type": "display_data"
    }
   ],
   "source": [
    "plt.loglog(x,y,'o',markersize=10)\n",
    "plt.loglog(x, power_law(x, *popt), '--')\n",
    "plt.xlabel('k',size=15)\n",
    "plt.ylabel('P(k)',size=15)\n",
    "#plt.xlim(2,200)\n",
    "plt.show()"
   ]
  },
  {
   "cell_type": "markdown",
   "metadata": {},
   "source": [
    "# PROPERTIES OF BARABASI ALBERT NETWORKS "
   ]
  },
  {
   "cell_type": "code",
   "execution_count": 27,
   "metadata": {},
   "outputs": [],
   "source": [
    "#parameters\n",
    "NList=[100,500,1000,2500,5000,10000]\n",
    "\n",
    "GList=[]\n",
    "for N in NList:\n",
    "    G=nx.barabasi_albert_graph(N,3)\n",
    "    GList.append(G)"
   ]
  },
  {
   "cell_type": "code",
   "execution_count": 28,
   "metadata": {},
   "outputs": [
    {
     "name": "stdout",
     "output_type": "stream",
     "text": [
      "5.82\n",
      "5.964\n",
      "5.982\n",
      "5.9928\n",
      "5.9964\n",
      "5.9982\n"
     ]
    }
   ],
   "source": [
    "#average degree\n",
    "for G in GList:\n",
    "    k=np.mean(list(dict(G.degree()).values()))\n",
    "    print (k)"
   ]
  },
  {
   "cell_type": "code",
   "execution_count": 29,
   "metadata": {},
   "outputs": [],
   "source": [
    "#average clustering coefficient\n",
    "clust=[]\n",
    "for G in GList:\n",
    "    cl=nx.average_clustering(G)\n",
    "    clust.append(cl)"
   ]
  },
  {
   "cell_type": "code",
   "execution_count": 30,
   "metadata": {},
   "outputs": [
    {
     "data": {
      "image/png": "[encoded data removed]",
      "text/plain": [
       "<Figure size 432x288 with 1 Axes>"
      ]
     },
     "metadata": {
      "needs_background": "light"
     },
     "output_type": "display_data"
    }
   ],
   "source": [
    "plt.plot(NList,clust,'o--')\n",
    "plt.xlabel('N')\n",
    "plt.ylabel('c')\n",
    "plt.show()"
   ]
  },
  {
   "cell_type": "code",
   "execution_count": 31,
   "metadata": {},
   "outputs": [],
   "source": [
    "#average shortest path length\n",
    "\n",
    "#parameters\n",
    "NList=[100,200,500,800,1000,1500]\n",
    "\n",
    "GList=[]\n",
    "for N in NList:\n",
    "    G=nx.barabasi_albert_graph(N,3)\n",
    "    GList.append(G)\n",
    "\n",
    "avSp=[]\n",
    "for G in GList:\n",
    "    sp=nx.average_shortest_path_length(G)\n",
    "    avSp.append(sp)"
   ]
  },
  {
   "cell_type": "code",
   "execution_count": 33,
   "metadata": {},
   "outputs": [
    {
     "data": {
      "image/png": "[encoded data removed]",
      "text/plain": [
       "<Figure size 432x288 with 1 Axes>"
      ]
     },
     "metadata": {
      "needs_background": "light"
     },
     "output_type": "display_data"
    }
   ],
   "source": [
    "plt.semilogx(NList,avSp,'o--')\n",
    "plt.xlabel('N')\n",
    "plt.ylabel('av shortest path length')\n",
    "plt.show()"
   ]
  },
  {
   "cell_type": "code",
   "execution_count": null,
   "metadata": {},
   "outputs": [],
   "source": []
  }
 ],
 "metadata": {
  "kernelspec": {
   "display_name": "Python 3",
   "language": "python",
   "name": "python3"
  },
  "language_info": {
   "codemirror_mode": {
    "name": "ipython",
    "version": 3
   },
   "file_extension": ".py",
   "mimetype": "text/x-python",
   "name": "python",
   "nbconvert_exporter": "python",
   "pygments_lexer": "ipython3",
   "version": "3.8.3"
  }
 },
 "nbformat": 4,
 "nbformat_minor": 2
}
