{
 "cells": [
  {
   "cell_type": "markdown",
   "id": "e9c791bf-e5e1-41f4-866e-466e723f0c2d",
   "metadata": {},
   "source": [
    "# Solutions homework 28 February\n",
    "## Personal networks, ego networks"
   ]
  },
  {
   "cell_type": "markdown",
   "id": "1317cc7b-6a7a-4580-b4dd-4095101c5aa5",
   "metadata": {},
   "source": [
    "#### Use R. Vacca's data on the personal networks of migrants from Sri Lanka living in Italy. Describe the ego-network of an actor in the database (not n. 28, which we examined together in class) and compare it to the ego-network of Ego 28. in particular, look at their age and year of arrival in destination country (Italy). Do the egos who have spent more time in Italy have more diverse networks (for example with fewer family members, or with more residents in Italy than in native Sri Lanka, or with more Italian-born contacts)? Are more diverse networks also less cohesive (lower density or transitivity, or higher APL, etc.)?"
   ]
  },
  {
   "cell_type": "markdown",
   "id": "6cd17e11-1f13-4e22-bc5f-fddf23c66423",
   "metadata": {},
   "source": [
    "##### This is just an example of a possible solution, using the case of Ego 33. Other solutions are possible (also depending on the particular ego-network chosen)."
   ]
  },
  {
   "cell_type": "code",
   "execution_count": 1,
   "id": "9b2e6b6e-e400-4069-9f04-f4411d3bac16",
   "metadata": {},
   "outputs": [],
   "source": [
    "########### Preparation ##############\n",
    "# import packages\n",
    "import networkx as nx\n",
    "import matplotlib.pyplot as plt\n",
    "import pandas as pd"
   ]
  },
  {
   "cell_type": "code",
   "execution_count": 2,
   "id": "ab5e6352-bb33-4e99-8111-6431df1462f0",
   "metadata": {},
   "outputs": [
    {
     "name": "stdout",
     "output_type": "stream",
     "text": [
      "     ego_ID ego.sex  ego.age  ego.arr    ego.edu  ego.inc  empl ego.empl.bin  \\\n",
      "0        28    Male     61.0   2008.0  Secondary    350.0     3          Yes   \n",
      "1        29    Male     38.0   2000.0    Primary    900.0     4          Yes   \n",
      "2        33    Male     30.0   2010.0    Primary    200.0     3          Yes   \n",
      "3        35    Male     25.0   2009.0  Secondary   1000.0     3          Yes   \n",
      "4        39    Male     29.0   2007.0    Primary      0.0     1           No   \n",
      "..      ...     ...      ...      ...        ...      ...   ...          ...   \n",
      "97      160    Male     61.0   1993.0    Primary      0.0     2           No   \n",
      "98      161    Male     34.0   2008.0    Primary    225.0     1           No   \n",
      "99      162    Male     44.0   1992.0  Secondary   1100.0     4          Yes   \n",
      "100     163    Male     50.0   2008.0    Primary    900.0     4          Yes   \n",
      "101     164    Male     28.0   2008.0  Secondary   1500.0     4          Yes   \n",
      "\n",
      "    ego.age.cat  \n",
      "0           60+  \n",
      "1         36-40  \n",
      "2         26-30  \n",
      "3         18-25  \n",
      "4         26-30  \n",
      "..          ...  \n",
      "97          60+  \n",
      "98        31-35  \n",
      "99        41-50  \n",
      "100       41-50  \n",
      "101       26-30  \n",
      "\n",
      "[102 rows x 9 columns]\n"
     ]
    }
   ],
   "source": [
    "# use pandas to import list of egos with attributes\n",
    "Egos = pd.read_csv('Ego.attr.csv', sep=';')\n",
    "print(Egos)"
   ]
  },
  {
   "cell_type": "code",
   "execution_count": 3,
   "id": "bee1206b-3d8e-4dd3-9d68-652f5004751d",
   "metadata": {},
   "outputs": [
    {
     "name": "stdout",
     "output_type": "stream",
     "text": [
      "      alter_ID  ego_ID  alter_num alter.sex alter.age.cat     alter.rel  \\\n",
      "0         2801      28          1    Female         51-60  Close family   \n",
      "1         2802      28          2      Male         51-60  Other family   \n",
      "2         2803      28          3      Male         51-60  Close family   \n",
      "3         2804      28          4      Male           60+  Close family   \n",
      "4         2805      28          5    Female         41-50  Close family   \n",
      "...        ...     ...        ...       ...           ...           ...   \n",
      "4585     16441     164         41      Male         31-35       Friends   \n",
      "4586     16442     164         42    Female         26-30       Friends   \n",
      "4587     16443     164         43      Male         36-40       Friends   \n",
      "4588     16444     164         44      Male         31-35       Friends   \n",
      "4589     16445     164         45      Male         36-40       Friends   \n",
      "\n",
      "      alter.nat  alter.res  alter.clo alter.loan alter.fam  alter.age  \n",
      "0     Sri Lanka  Sri Lanka        NaN        NaN       Yes       52.0  \n",
      "1     Sri Lanka  Sri Lanka        3.0         No       Yes       54.0  \n",
      "2     Sri Lanka  Sri Lanka        NaN        NaN       Yes       56.0  \n",
      "3     Sri Lanka  Sri Lanka        NaN        NaN       Yes       63.0  \n",
      "4     Sri Lanka  Sri Lanka        NaN        NaN       Yes       47.0  \n",
      "...         ...        ...        ...        ...       ...        ...  \n",
      "4585  Sri Lanka      Italy        5.0        NaN        No       33.0  \n",
      "4586  Sri Lanka      Other        3.0        NaN        No       28.0  \n",
      "4587  Sri Lanka  Sri Lanka        5.0        NaN        No       40.0  \n",
      "4588  Sri Lanka  Sri Lanka        5.0        NaN        No       32.0  \n",
      "4589  Sri Lanka      Italy        5.0        NaN        No       40.0  \n",
      "\n",
      "[4590 rows x 12 columns]\n"
     ]
    }
   ],
   "source": [
    "# use pandas to import list of alters (of all Egos), with their attributes\n",
    "AltersAll = pd.read_csv('Alter.attr.all.csv', sep=';')\n",
    "print(AltersAll)"
   ]
  },
  {
   "cell_type": "markdown",
   "id": "ff94a5be-e811-473d-a182-5e2773c5d3fa",
   "metadata": {},
   "source": [
    "## Personal network composition indicators"
   ]
  },
  {
   "cell_type": "code",
   "execution_count": 7,
   "id": "0557dcba-1ce7-4fe8-979c-730ac67a9bba",
   "metadata": {},
   "outputs": [
    {
     "data": {
      "text/plain": [
       "30.0"
      ]
     },
     "execution_count": 7,
     "metadata": {},
     "output_type": "execute_result"
    }
   ],
   "source": [
    "# Is the network of Ego homogeneous by age?\n",
    "# let's first look at the age of Ego\n",
    "# for example, Ego n. 33\n",
    "\n",
    "# 1st method: if I know the index of Ego 33 (here = 2), then I can use:\n",
    "Egos['ego.age'].iloc[2]\n"
   ]
  },
  {
   "cell_type": "code",
   "execution_count": 8,
   "id": "2389688b-90b6-4b8d-8871-b78d8eb35ef9",
   "metadata": {},
   "outputs": [
    {
     "data": {
      "text/plain": [
       "2    30.0\n",
       "Name: ego.age, dtype: float64"
      ]
     },
     "execution_count": 8,
     "metadata": {},
     "output_type": "execute_result"
    }
   ],
   "source": [
    "# 2nd method: I can use the ego_ID variable (here, = 33) to find the cell I am looking for\n",
    "Egos.loc[Egos['ego_ID'] == 33, 'ego.age']"
   ]
  },
  {
   "cell_type": "code",
   "execution_count": 10,
   "id": "b3c45c0b-b414-4656-8be0-7216f4f361da",
   "metadata": {},
   "outputs": [
    {
     "data": {
      "text/plain": [
       "37.577777777777776"
      ]
     },
     "execution_count": 10,
     "metadata": {},
     "output_type": "execute_result"
    }
   ],
   "source": [
    "# What is the average age of the alters of Ego n. 33?\n",
    "AltersAll.loc[AltersAll['ego_ID'] == 33, 'alter.age'].mean()"
   ]
  },
  {
   "cell_type": "code",
   "execution_count": 11,
   "id": "93621927-b9fc-4506-a918-bc2f84214f4b",
   "metadata": {},
   "outputs": [
    {
     "data": {
      "text/plain": [
       "116.74949494949496"
      ]
     },
     "execution_count": 11,
     "metadata": {},
     "output_type": "execute_result"
    }
   ],
   "source": [
    "# same for variance\n",
    "AltersAll.loc[AltersAll['ego_ID'] == 33, 'alter.age'].var()"
   ]
  },
  {
   "cell_type": "code",
   "execution_count": 12,
   "id": "f1012eb0-1659-4a49-9967-ea180db624ee",
   "metadata": {},
   "outputs": [
    {
     "data": {
      "text/plain": [
       "0.25    29.0\n",
       "0.50    34.0\n",
       "0.75    47.0\n",
       "Name: alter.age, dtype: float64"
      ]
     },
     "execution_count": 12,
     "metadata": {},
     "output_type": "execute_result"
    }
   ],
   "source": [
    "# same for quantiles\n",
    "AltersAll.loc[AltersAll['ego_ID'] == 33, 'alter.age'].quantile([0.25, 0.5, 0.75])"
   ]
  },
  {
   "cell_type": "markdown",
   "id": "12dffa21-91e7-46fd-a338-d7d3b308a6fd",
   "metadata": {},
   "source": [
    "##### We can conclude that the personal network of Ego 33 includes people who are, on average, rather close to Egos' age (only slightly older)."
   ]
  },
  {
   "cell_type": "code",
   "execution_count": 46,
   "id": "4fb1d407-3c23-4ae7-a43c-4daa87f233e6",
   "metadata": {},
   "outputs": [
    {
     "data": {
      "text/html": [
       "<div>\n",
       "<style scoped>\n",
       "    .dataframe tbody tr th:only-of-type {\n",
       "        vertical-align: middle;\n",
       "    }\n",
       "\n",
       "    .dataframe tbody tr th {\n",
       "        vertical-align: top;\n",
       "    }\n",
       "\n",
       "    .dataframe thead th {\n",
       "        text-align: right;\n",
       "    }\n",
       "</style>\n",
       "<table border=\"1\" class=\"dataframe\">\n",
       "  <thead>\n",
       "    <tr style=\"text-align: right;\">\n",
       "      <th></th>\n",
       "      <th>ego_ID</th>\n",
       "      <th>alter.age</th>\n",
       "    </tr>\n",
       "  </thead>\n",
       "  <tbody>\n",
       "    <tr>\n",
       "      <th>0</th>\n",
       "      <td>28</td>\n",
       "      <td>49.777778</td>\n",
       "    </tr>\n",
       "    <tr>\n",
       "      <th>1</th>\n",
       "      <td>29</td>\n",
       "      <td>42.400000</td>\n",
       "    </tr>\n",
       "    <tr>\n",
       "      <th>2</th>\n",
       "      <td>33</td>\n",
       "      <td>37.577778</td>\n",
       "    </tr>\n",
       "    <tr>\n",
       "      <th>3</th>\n",
       "      <td>35</td>\n",
       "      <td>36.177778</td>\n",
       "    </tr>\n",
       "    <tr>\n",
       "      <th>4</th>\n",
       "      <td>39</td>\n",
       "      <td>39.822222</td>\n",
       "    </tr>\n",
       "    <tr>\n",
       "      <th>...</th>\n",
       "      <td>...</td>\n",
       "      <td>...</td>\n",
       "    </tr>\n",
       "    <tr>\n",
       "      <th>97</th>\n",
       "      <td>160</td>\n",
       "      <td>52.977778</td>\n",
       "    </tr>\n",
       "    <tr>\n",
       "      <th>98</th>\n",
       "      <td>161</td>\n",
       "      <td>37.777778</td>\n",
       "    </tr>\n",
       "    <tr>\n",
       "      <th>99</th>\n",
       "      <td>162</td>\n",
       "      <td>48.111111</td>\n",
       "    </tr>\n",
       "    <tr>\n",
       "      <th>100</th>\n",
       "      <td>163</td>\n",
       "      <td>46.088889</td>\n",
       "    </tr>\n",
       "    <tr>\n",
       "      <th>101</th>\n",
       "      <td>164</td>\n",
       "      <td>32.318182</td>\n",
       "    </tr>\n",
       "  </tbody>\n",
       "</table>\n",
       "<p>102 rows × 2 columns</p>\n",
       "</div>"
      ],
      "text/plain": [
       "     ego_ID  alter.age\n",
       "0        28  49.777778\n",
       "1        29  42.400000\n",
       "2        33  37.577778\n",
       "3        35  36.177778\n",
       "4        39  39.822222\n",
       "..      ...        ...\n",
       "97      160  52.977778\n",
       "98      161  37.777778\n",
       "99      162  48.111111\n",
       "100     163  46.088889\n",
       "101     164  32.318182\n",
       "\n",
       "[102 rows x 2 columns]"
      ]
     },
     "execution_count": 46,
     "metadata": {},
     "output_type": "execute_result"
    }
   ],
   "source": [
    "# OPTION: generalize this analysis to all Egos\n",
    "# Do people surround themselves with contacts of similar age?\n",
    "\n",
    "# To answer, we must first calculate the average age of the alters of each ego\n",
    "# one way is to use \"groupby\" function in pandas\n",
    "AlterAgeMean = AltersAll.groupby('ego_ID')['alter.age'].mean() # this generates the mean of alters' age for each ego\n",
    "AlterAgeMean = AlterAgeMean.reset_index() # this is just to ensure that output is a pandas dataframe\n",
    "AlterAgeMean # show result"
   ]
  },
  {
   "cell_type": "code",
   "execution_count": 53,
   "id": "82c31e6b-ced9-40f7-87ec-5965379aa3bf",
   "metadata": {},
   "outputs": [
    {
     "data": {
      "text/html": [
       "<div>\n",
       "<style scoped>\n",
       "    .dataframe tbody tr th:only-of-type {\n",
       "        vertical-align: middle;\n",
       "    }\n",
       "\n",
       "    .dataframe tbody tr th {\n",
       "        vertical-align: top;\n",
       "    }\n",
       "\n",
       "    .dataframe thead th {\n",
       "        text-align: right;\n",
       "    }\n",
       "</style>\n",
       "<table border=\"1\" class=\"dataframe\">\n",
       "  <thead>\n",
       "    <tr style=\"text-align: right;\">\n",
       "      <th></th>\n",
       "      <th>ego.age</th>\n",
       "      <th>ego_ID</th>\n",
       "      <th>alter.age</th>\n",
       "    </tr>\n",
       "  </thead>\n",
       "  <tbody>\n",
       "    <tr>\n",
       "      <th>0</th>\n",
       "      <td>61.0</td>\n",
       "      <td>28</td>\n",
       "      <td>49.777778</td>\n",
       "    </tr>\n",
       "    <tr>\n",
       "      <th>1</th>\n",
       "      <td>38.0</td>\n",
       "      <td>29</td>\n",
       "      <td>42.400000</td>\n",
       "    </tr>\n",
       "    <tr>\n",
       "      <th>2</th>\n",
       "      <td>30.0</td>\n",
       "      <td>33</td>\n",
       "      <td>37.577778</td>\n",
       "    </tr>\n",
       "    <tr>\n",
       "      <th>3</th>\n",
       "      <td>25.0</td>\n",
       "      <td>35</td>\n",
       "      <td>36.177778</td>\n",
       "    </tr>\n",
       "    <tr>\n",
       "      <th>4</th>\n",
       "      <td>29.0</td>\n",
       "      <td>39</td>\n",
       "      <td>39.822222</td>\n",
       "    </tr>\n",
       "    <tr>\n",
       "      <th>...</th>\n",
       "      <td>...</td>\n",
       "      <td>...</td>\n",
       "      <td>...</td>\n",
       "    </tr>\n",
       "    <tr>\n",
       "      <th>97</th>\n",
       "      <td>61.0</td>\n",
       "      <td>160</td>\n",
       "      <td>52.977778</td>\n",
       "    </tr>\n",
       "    <tr>\n",
       "      <th>98</th>\n",
       "      <td>34.0</td>\n",
       "      <td>161</td>\n",
       "      <td>37.777778</td>\n",
       "    </tr>\n",
       "    <tr>\n",
       "      <th>99</th>\n",
       "      <td>44.0</td>\n",
       "      <td>162</td>\n",
       "      <td>48.111111</td>\n",
       "    </tr>\n",
       "    <tr>\n",
       "      <th>100</th>\n",
       "      <td>50.0</td>\n",
       "      <td>163</td>\n",
       "      <td>46.088889</td>\n",
       "    </tr>\n",
       "    <tr>\n",
       "      <th>101</th>\n",
       "      <td>28.0</td>\n",
       "      <td>164</td>\n",
       "      <td>32.318182</td>\n",
       "    </tr>\n",
       "  </tbody>\n",
       "</table>\n",
       "<p>102 rows × 3 columns</p>\n",
       "</div>"
      ],
      "text/plain": [
       "     ego.age  ego_ID  alter.age\n",
       "0       61.0      28  49.777778\n",
       "1       38.0      29  42.400000\n",
       "2       30.0      33  37.577778\n",
       "3       25.0      35  36.177778\n",
       "4       29.0      39  39.822222\n",
       "..       ...     ...        ...\n",
       "97      61.0     160  52.977778\n",
       "98      34.0     161  37.777778\n",
       "99      44.0     162  48.111111\n",
       "100     50.0     163  46.088889\n",
       "101     28.0     164  32.318182\n",
       "\n",
       "[102 rows x 3 columns]"
      ]
     },
     "execution_count": 53,
     "metadata": {},
     "output_type": "execute_result"
    }
   ],
   "source": [
    "# OPTION (CONT.): To compare the age of ego to the average age of his/her alters, for all egos,\n",
    "# we can put together a new file with ego's age and the average age of his/her alters\n",
    "frames = [Egos['ego.age'], AlterAgeMean] # select the objects we want fropm two different dataframes\n",
    "Age = pd.concat(frames, axis=1) # Merges multiple dataFrame objects\n",
    "Age # view result"
   ]
  },
  {
   "cell_type": "code",
   "execution_count": 56,
   "id": "262e427c-68f5-42fa-9ad7-01fec337d846",
   "metadata": {},
   "outputs": [
    {
     "name": "stdout",
     "output_type": "stream",
     "text": [
      "-0.7640164016401647\n",
      "54.240349226639864\n"
     ]
    }
   ],
   "source": [
    "# OPTION (CONT.) We can now look at the difference between ego's age and the average age of his/her alters\n",
    "Age['age.diff'] = Age['ego.age'] - Age['alter.age'] # create a new column with this value\n",
    "print(Age['age.diff'].mean()) # show mean of the difference\n",
    "print(Age['age.diff'].var()) # show variance\n",
    "# this helps to see whether overall, these ego networks are homogenous with respect to age"
   ]
  },
  {
   "cell_type": "markdown",
   "id": "68ecf9bf-8594-4978-bb7f-4bc670f608d0",
   "metadata": {},
   "source": [
    "##### We can conclude that the Egos in this dataset have alters of similar age on average. "
   ]
  },
  {
   "cell_type": "code",
   "execution_count": 37,
   "id": "56f8a9b0-fd4d-4fa0-9c48-77c779140f3d",
   "metadata": {},
   "outputs": [
    {
     "data": {
      "text/plain": [
       "'Male'"
      ]
     },
     "execution_count": 37,
     "metadata": {},
     "output_type": "execute_result"
    }
   ],
   "source": [
    "# Let's now look at a binary variable, for ex. gender\n",
    "# Is the network of Ego 33 homogeneous by gender?\n",
    "# Let's first look at the gender of Ego 33:\n",
    "Egos['ego.sex'].iloc[2]"
   ]
  },
  {
   "cell_type": "code",
   "execution_count": 38,
   "id": "7cf76113-8506-4875-802e-6a8603782c42",
   "metadata": {},
   "outputs": [
    {
     "data": {
      "text/plain": [
       "alter.sex\n",
       "Male      0.622222\n",
       "Female    0.377778\n",
       "Name: proportion, dtype: float64"
      ]
     },
     "execution_count": 38,
     "metadata": {},
     "output_type": "execute_result"
    }
   ],
   "source": [
    "# Let's look at the gender of his alters\n",
    "AltersAll.loc[AltersAll['ego_ID'] == 33, 'alter.sex'].value_counts(normalize=True)"
   ]
  },
  {
   "cell_type": "code",
   "execution_count": 62,
   "id": "6a957987-8f75-49d4-b940-d9e320c99428",
   "metadata": {},
   "outputs": [
    {
     "data": {
      "text/plain": [
       "ego.sex\n",
       "Male    1.0\n",
       "Name: proportion, dtype: float64"
      ]
     },
     "execution_count": 62,
     "metadata": {},
     "output_type": "execute_result"
    }
   ],
   "source": [
    "# OPTION: generalize this analysis to all Egos\n",
    "# Do people surround themselves with contacts of similar sex?\n",
    "\n",
    "# First, what is the sex of Egos?\n",
    "Egos['ego.sex'].value_counts(normalize=True)"
   ]
  },
  {
   "cell_type": "code",
   "execution_count": 60,
   "id": "d587ebb3-772a-498c-b641-3523272811f5",
   "metadata": {},
   "outputs": [
    {
     "data": {
      "text/html": [
       "<div>\n",
       "<style scoped>\n",
       "    .dataframe tbody tr th:only-of-type {\n",
       "        vertical-align: middle;\n",
       "    }\n",
       "\n",
       "    .dataframe tbody tr th {\n",
       "        vertical-align: top;\n",
       "    }\n",
       "\n",
       "    .dataframe thead th {\n",
       "        text-align: right;\n",
       "    }\n",
       "</style>\n",
       "<table border=\"1\" class=\"dataframe\">\n",
       "  <thead>\n",
       "    <tr style=\"text-align: right;\">\n",
       "      <th></th>\n",
       "      <th>ego_ID</th>\n",
       "      <th>alter.sex</th>\n",
       "      <th>proportion</th>\n",
       "    </tr>\n",
       "  </thead>\n",
       "  <tbody>\n",
       "    <tr>\n",
       "      <th>0</th>\n",
       "      <td>28</td>\n",
       "      <td>Male</td>\n",
       "      <td>0.822222</td>\n",
       "    </tr>\n",
       "    <tr>\n",
       "      <th>1</th>\n",
       "      <td>28</td>\n",
       "      <td>Female</td>\n",
       "      <td>0.177778</td>\n",
       "    </tr>\n",
       "    <tr>\n",
       "      <th>2</th>\n",
       "      <td>29</td>\n",
       "      <td>Male</td>\n",
       "      <td>0.911111</td>\n",
       "    </tr>\n",
       "    <tr>\n",
       "      <th>3</th>\n",
       "      <td>29</td>\n",
       "      <td>Female</td>\n",
       "      <td>0.088889</td>\n",
       "    </tr>\n",
       "    <tr>\n",
       "      <th>4</th>\n",
       "      <td>33</td>\n",
       "      <td>Male</td>\n",
       "      <td>0.622222</td>\n",
       "    </tr>\n",
       "    <tr>\n",
       "      <th>...</th>\n",
       "      <td>...</td>\n",
       "      <td>...</td>\n",
       "      <td>...</td>\n",
       "    </tr>\n",
       "    <tr>\n",
       "      <th>199</th>\n",
       "      <td>162</td>\n",
       "      <td>Female</td>\n",
       "      <td>0.288889</td>\n",
       "    </tr>\n",
       "    <tr>\n",
       "      <th>200</th>\n",
       "      <td>163</td>\n",
       "      <td>Male</td>\n",
       "      <td>0.666667</td>\n",
       "    </tr>\n",
       "    <tr>\n",
       "      <th>201</th>\n",
       "      <td>163</td>\n",
       "      <td>Female</td>\n",
       "      <td>0.333333</td>\n",
       "    </tr>\n",
       "    <tr>\n",
       "      <th>202</th>\n",
       "      <td>164</td>\n",
       "      <td>Male</td>\n",
       "      <td>0.688889</td>\n",
       "    </tr>\n",
       "    <tr>\n",
       "      <th>203</th>\n",
       "      <td>164</td>\n",
       "      <td>Female</td>\n",
       "      <td>0.311111</td>\n",
       "    </tr>\n",
       "  </tbody>\n",
       "</table>\n",
       "<p>204 rows × 3 columns</p>\n",
       "</div>"
      ],
      "text/plain": [
       "     ego_ID alter.sex  proportion\n",
       "0        28      Male    0.822222\n",
       "1        28    Female    0.177778\n",
       "2        29      Male    0.911111\n",
       "3        29    Female    0.088889\n",
       "4        33      Male    0.622222\n",
       "..      ...       ...         ...\n",
       "199     162    Female    0.288889\n",
       "200     163      Male    0.666667\n",
       "201     163    Female    0.333333\n",
       "202     164      Male    0.688889\n",
       "203     164    Female    0.311111\n",
       "\n",
       "[204 rows x 3 columns]"
      ]
     },
     "execution_count": 60,
     "metadata": {},
     "output_type": "execute_result"
    }
   ],
   "source": [
    "# OPTION (CONT.): \n",
    "# Egos are all men!\n",
    "# We must now look at the proportions of women and men from among the alters of each ego\n",
    "# one way is to use \"groupby\" function in pandas (as above)\n",
    "AlterSexProp = AltersAll.groupby('ego_ID')['alter.sex'].value_counts(normalize=True) # this generates the proportions for each ego\n",
    "AlterSexProp = AlterSexProp.reset_index() # this is just to ensure that output is a pandas dataframe\n",
    "AlterSexProp # show result"
   ]
  },
  {
   "cell_type": "code",
   "execution_count": 61,
   "id": "5da80795-df13-44cd-a155-9c06852f080f",
   "metadata": {},
   "outputs": [
    {
     "data": {
      "text/plain": [
       "0.717429193899782"
      ]
     },
     "execution_count": 61,
     "metadata": {},
     "output_type": "execute_result"
    }
   ],
   "source": [
    "# OPTION (CONT.): What is, on average, the proportion of men among the alters of each ego?\n",
    "AlterSexProp.loc[AlterSexProp['alter.sex'] == 'Male', 'proportion'].mean()"
   ]
  },
  {
   "cell_type": "markdown",
   "id": "6fb10db7-1f31-48c4-b23e-a4b7f2d4c63a",
   "metadata": {},
   "source": [
    "##### So, all egos are men and on average, slightly over 70% of their alters are also men. These are very homogeneous (with respect to this variable) personal networks. It may be a result of the specific situation of these people (migrants).\n",
    "##### One could do further analyses, not shown here, to better understand this result: for example, are the female alters also family members? Are they mostly based in the destination country (Italy) or in the origin country (Sri Lanka)?"
   ]
  },
  {
   "cell_type": "code",
   "execution_count": 40,
   "id": "463ecdbe-315f-4ff5-9682-799a22bbe0e2",
   "metadata": {},
   "outputs": [
    {
     "data": {
      "text/plain": [
       "0.7022222222222223"
      ]
     },
     "execution_count": 40,
     "metadata": {},
     "output_type": "execute_result"
    }
   ],
   "source": [
    "# Let's now look at the case of categorical variables with more than 2 categories, \n",
    "# for ex. type of alter relationships\n",
    "\n",
    "# First, define a function that calculate the Blau index\n",
    "def blau(df,col):\n",
    "    return(1 - ((df[col].value_counts() / df[col].count())**2).sum())\n",
    "\n",
    "# then apply the function to the case of Ego 33\n",
    "blau(AltersAll.loc[AltersAll['ego_ID'] == 33], 'alter.rel')"
   ]
  },
  {
   "cell_type": "code",
   "execution_count": 41,
   "id": "cec99600-38af-46b7-9460-dc5d1c54c1a0",
   "metadata": {},
   "outputs": [
    {
     "data": {
      "text/plain": [
       "array(['Close family', 'Other family', 'Friends', 'Acquaintances'],\n",
       "      dtype=object)"
      ]
     },
     "execution_count": 41,
     "metadata": {},
     "output_type": "execute_result"
    }
   ],
   "source": [
    "# What are the existing categories?\n",
    "AltersAll['alter.rel'].unique()"
   ]
  },
  {
   "cell_type": "code",
   "execution_count": 63,
   "id": "e842fb8c-a94d-4617-a389-58c1c46851fa",
   "metadata": {},
   "outputs": [
    {
     "data": {
      "text/plain": [
       "0.9362962962962964"
      ]
     },
     "execution_count": 63,
     "metadata": {},
     "output_type": "execute_result"
    }
   ],
   "source": [
    "# IQV is normalized Blau\n",
    "blau(AltersAll.loc[AltersAll['ego_ID'] == 33], 'alter.rel')*4/3"
   ]
  },
  {
   "cell_type": "markdown",
   "id": "6b11de07-d112-402a-8935-9d952799d66a",
   "metadata": {},
   "source": [
    "## Structure"
   ]
  },
  {
   "cell_type": "code",
   "execution_count": 73,
   "id": "88811789-b464-41f8-8014-3dae6c5a4a1f",
   "metadata": {},
   "outputs": [
    {
     "data": {
      "text/html": [
       "<div>\n",
       "<style scoped>\n",
       "    .dataframe tbody tr th:only-of-type {\n",
       "        vertical-align: middle;\n",
       "    }\n",
       "\n",
       "    .dataframe tbody tr th {\n",
       "        vertical-align: top;\n",
       "    }\n",
       "\n",
       "    .dataframe thead th {\n",
       "        text-align: right;\n",
       "    }\n",
       "</style>\n",
       "<table border=\"1\" class=\"dataframe\">\n",
       "  <thead>\n",
       "    <tr style=\"text-align: right;\">\n",
       "      <th></th>\n",
       "      <th>V1</th>\n",
       "      <th>V2</th>\n",
       "    </tr>\n",
       "  </thead>\n",
       "  <tbody>\n",
       "    <tr>\n",
       "      <th>0</th>\n",
       "      <td>3301</td>\n",
       "      <td>3302</td>\n",
       "    </tr>\n",
       "    <tr>\n",
       "      <th>1</th>\n",
       "      <td>3301</td>\n",
       "      <td>3303</td>\n",
       "    </tr>\n",
       "    <tr>\n",
       "      <th>2</th>\n",
       "      <td>3301</td>\n",
       "      <td>3304</td>\n",
       "    </tr>\n",
       "    <tr>\n",
       "      <th>3</th>\n",
       "      <td>3301</td>\n",
       "      <td>3305</td>\n",
       "    </tr>\n",
       "    <tr>\n",
       "      <th>4</th>\n",
       "      <td>3301</td>\n",
       "      <td>3306</td>\n",
       "    </tr>\n",
       "    <tr>\n",
       "      <th>...</th>\n",
       "      <td>...</td>\n",
       "      <td>...</td>\n",
       "    </tr>\n",
       "    <tr>\n",
       "      <th>202</th>\n",
       "      <td>3339</td>\n",
       "      <td>3340</td>\n",
       "    </tr>\n",
       "    <tr>\n",
       "      <th>203</th>\n",
       "      <td>3339</td>\n",
       "      <td>3345</td>\n",
       "    </tr>\n",
       "    <tr>\n",
       "      <th>204</th>\n",
       "      <td>3340</td>\n",
       "      <td>3345</td>\n",
       "    </tr>\n",
       "    <tr>\n",
       "      <th>205</th>\n",
       "      <td>3341</td>\n",
       "      <td>3342</td>\n",
       "    </tr>\n",
       "    <tr>\n",
       "      <th>206</th>\n",
       "      <td>3343</td>\n",
       "      <td>3344</td>\n",
       "    </tr>\n",
       "  </tbody>\n",
       "</table>\n",
       "<p>207 rows × 2 columns</p>\n",
       "</div>"
      ],
      "text/plain": [
       "       V1    V2\n",
       "0    3301  3302\n",
       "1    3301  3303\n",
       "2    3301  3304\n",
       "3    3301  3305\n",
       "4    3301  3306\n",
       "..    ...   ...\n",
       "202  3339  3340\n",
       "203  3339  3345\n",
       "204  3340  3345\n",
       "205  3341  3342\n",
       "206  3343  3344\n",
       "\n",
       "[207 rows x 2 columns]"
      ]
     },
     "execution_count": 73,
     "metadata": {},
     "output_type": "execute_result"
    }
   ],
   "source": [
    "# use pandas to import edgelist (of Ego 33) as a table\n",
    "EgoEdges33 = pd.read_table('EgoNets_All\\EgoNet.33.csv', sep=',')\n",
    "EgoEdges33 = EgoEdges33[['V1','V2']] # selects relevant columns (removing an unnecessary index column)\n",
    "EgoEdges33 # view result"
   ]
  },
  {
   "cell_type": "code",
   "execution_count": 74,
   "id": "14779c93-6abe-44bd-856d-27e3fdacc43a",
   "metadata": {},
   "outputs": [
    {
     "name": "stdout",
     "output_type": "stream",
     "text": [
      "Graph with 44 nodes and 207 edges\n"
     ]
    }
   ],
   "source": [
    "# generate graph from pandas edgelist\n",
    "# it is an undirected graph\n",
    "\n",
    "EgoNet33 = nx.from_pandas_edgelist(EgoEdges33, 'V1', 'V2', create_using=nx.Graph()) \n",
    "print(EgoNet33)"
   ]
  },
  {
   "cell_type": "code",
   "execution_count": 76,
   "id": "ed4c9c36-a8c1-4a1f-8ff2-f69e505a204d",
   "metadata": {},
   "outputs": [],
   "source": [
    "# match nodes of graph with attributes of nodes\n",
    "Alters33 = AltersAll.loc[AltersAll['ego_ID'] == 33] # select only the alters if Ego 33\n",
    "NodeData33 = Alters33.set_index('alter_ID').to_dict('index').items() # Dictionary format\n",
    "EgoNet33.add_nodes_from(NodeData33) # add attributes to graph"
   ]
  },
  {
   "cell_type": "code",
   "execution_count": 77,
   "id": "4ac3f1dc-fa0f-44b5-bb08-e2413f46bd82",
   "metadata": {},
   "outputs": [
    {
     "data": {
      "image/png": "[encoded data removed]",
      "text/plain": [
       "<Figure size 640x480 with 1 Axes>"
      ]
     },
     "metadata": {},
     "output_type": "display_data"
    }
   ],
   "source": [
    "# Draw graph\n",
    "nx.draw(EgoNet33)\n",
    "plt.show()\n",
    "# here, visualisation serves to support reasoning - I am not trying to make it beautiful (use Gephi for that)"
   ]
  },
  {
   "cell_type": "code",
   "execution_count": 84,
   "id": "b704d59e-dfb2-4482-91b7-e511d7a86b02",
   "metadata": {},
   "outputs": [
    {
     "data": {
      "text/plain": [
       "[3333]"
      ]
     },
     "execution_count": 84,
     "metadata": {},
     "output_type": "execute_result"
    }
   ],
   "source": [
    "# There seem to be isolates \n",
    "list(nx.isolates(EgoNet33))"
   ]
  },
  {
   "cell_type": "code",
   "execution_count": 86,
   "id": "d5e7a93d-26fd-4297-9b33-19a3c465b30e",
   "metadata": {},
   "outputs": [
    {
     "data": {
      "text/plain": [
       "7"
      ]
     },
     "execution_count": 86,
     "metadata": {},
     "output_type": "execute_result"
    }
   ],
   "source": [
    "# and very small components\n",
    "nx.number_connected_components(EgoNet33)"
   ]
  },
  {
   "cell_type": "code",
   "execution_count": 88,
   "id": "fc071a07-88df-4d44-9fc9-e4fc33cb1133",
   "metadata": {},
   "outputs": [
    {
     "data": {
      "text/plain": [
       "[{3301,\n",
       "  3302,\n",
       "  3303,\n",
       "  3304,\n",
       "  3305,\n",
       "  3306,\n",
       "  3307,\n",
       "  3308,\n",
       "  3309,\n",
       "  3310,\n",
       "  3311,\n",
       "  3312,\n",
       "  3313,\n",
       "  3314,\n",
       "  3315,\n",
       "  3316,\n",
       "  3317,\n",
       "  3318,\n",
       "  3319,\n",
       "  3320,\n",
       "  3321,\n",
       "  3322,\n",
       "  3323,\n",
       "  3324,\n",
       "  3325},\n",
       " {3326, 3327, 3328, 3329, 3330, 3331, 3332},\n",
       " {3334, 3335},\n",
       " {3336, 3337, 3338, 3339, 3340, 3345},\n",
       " {3341, 3342},\n",
       " {3343, 3344},\n",
       " {3333}]"
      ]
     },
     "execution_count": 88,
     "metadata": {},
     "output_type": "execute_result"
    }
   ],
   "source": [
    "# Which are these components?\n",
    "list(nx.connected_components(EgoNet33))"
   ]
  },
  {
   "cell_type": "code",
   "execution_count": 92,
   "id": "348b73a2-cde5-4b6d-ba3f-6d8180426cb2",
   "metadata": {},
   "outputs": [
    {
     "name": "stdout",
     "output_type": "stream",
     "text": [
      "Italy\n",
      "Italy\n",
      "Italy\n",
      "Italy\n",
      "Italy\n",
      "Italy\n",
      "Italy\n"
     ]
    }
   ],
   "source": [
    "# Are those in smaller components residents of the destination country (Italy)?\n",
    "residence = nx.get_node_attributes(EgoNet33,'alter.res')\n",
    "# to view the value for the isolate node (n. 3333)\n",
    "print(residence[3333])\n",
    "# and for those in small components\n",
    "print(residence[3343])\n",
    "print(residence[3344])\n",
    "print(residence[3342])\n",
    "print(residence[3341])\n",
    "print(residence[3334])\n",
    "print(residence[3335])"
   ]
  },
  {
   "cell_type": "code",
   "execution_count": 95,
   "id": "2c6f3603-91ce-42b9-a55a-04b5ed9fca6f",
   "metadata": {},
   "outputs": [
    {
     "data": {
      "image/png": "[encoded data removed]",
      "text/plain": [
       "<Figure size 640x480 with 1 Axes>"
      ]
     },
     "metadata": {},
     "output_type": "display_data"
    }
   ],
   "source": [
    "# It seems that the least connected alters live in the destination country\n",
    "# How general is this?\n",
    "\n",
    "# OPTION: see this visually\n",
    "\n",
    "# create empty list for node colors\n",
    "node_color = []\n",
    "\n",
    "# for each alter in the ego net of n. 33\n",
    "for node in EgoNet33.nodes(data=True):\n",
    "\n",
    "    # if the node lives in Sri Lanka\n",
    "    if node[1]['alter.res']=='Sri Lanka':\n",
    "        node_color.append('blue')\n",
    "        \n",
    "    # if the node lives in Italy\n",
    "    elif node[1]['alter.res']=='Italy':\n",
    "        node_color.append('red')\n",
    "\n",
    "    # if the node lives elsewhere\n",
    "    elif node[1]['alter.res']=='Other':\n",
    "        node_color.append('black')\n",
    "\n",
    "# draw graph with node attribute color\n",
    "nx.draw(EgoNet33, node_color=node_color)\n",
    "\n",
    "# again, visualisation serves to support reasoning - I am not trying to make it beautiful (use Gephi for that)"
   ]
  },
  {
   "cell_type": "code",
   "execution_count": 96,
   "id": "dd5e0cb4-ce55-478c-add7-668bee94482a",
   "metadata": {},
   "outputs": [
    {
     "data": {
      "text/plain": [
       "2010.0"
      ]
     },
     "execution_count": 96,
     "metadata": {},
     "output_type": "execute_result"
    }
   ],
   "source": [
    "# The result is a very sparse and rather diverse network, with alters both in Sri Lanka and Italy.\n",
    "# Ego n. 33 arrived in Italy only 2 years before data collection (which was in 2012):\n",
    "Egos['ego.arr'].iloc[2]"
   ]
  },
  {
   "cell_type": "markdown",
   "id": "4399053c-d631-4f11-b000-086624904f2d",
   "metadata": {},
   "source": [
    "##### Last week, we examined the network of Ego 28 who had arrived in Italy earlier, and therefore had more time to adjust his relationships. Compared to 33, the network of 28 was much denser (it formed a single connected component)."
   ]
  },
  {
   "cell_type": "markdown",
   "id": "376a455e-6181-486b-b0a9-15403042f721",
   "metadata": {},
   "source": [
    "##### Because this particular ego-network consists of several components, and it is of small size, some measures cannot be calculated (for ex. diameter) while others are not very interesting because values will be very low (for ex. clustering coefficient). For this reason, I focused here on components. You should consider the characteristics of the Ego network you are examining before deciding which structural measures to compute. "
   ]
  },
  {
   "cell_type": "code",
   "execution_count": null,
   "id": "a4d7759a-04b9-4f48-95cb-d2599dfa3a52",
   "metadata": {},
   "outputs": [],
   "source": []
  }
 ],
 "metadata": {
  "kernelspec": {
   "display_name": "Python 3 (ipykernel)",
   "language": "python",
   "name": "python3"
  },
  "language_info": {
   "codemirror_mode": {
    "name": "ipython",
    "version": 3
   },
   "file_extension": ".py",
   "mimetype": "text/x-python",
   "name": "python",
   "nbconvert_exporter": "python",
   "pygments_lexer": "ipython3",
   "version": "3.9.18"
  }
 },
 "nbformat": 4,
 "nbformat_minor": 5
}
