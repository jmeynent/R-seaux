{
 "cells": [
  {
   "cell_type": "code",
   "execution_count": 1,
   "metadata": {},
   "outputs": [],
   "source": [
    "import networkx as nx\n",
    "import itertools\n",
    "import random\n",
    "import numpy as np\n",
    "import matplotlib.pyplot as plt"
   ]
  },
  {
   "cell_type": "markdown",
   "metadata": {},
   "source": [
    "# 1-generation by the model"
   ]
  },
  {
   "cell_type": "markdown",
   "metadata": {},
   "source": [
    "1- select a couple of nodes (i,j)\n",
    "\n",
    "2- generate a random number, rand , between 0 and 1\n",
    "\n",
    "3- if rand<p : create the edge (i,j)\n",
    "    \n",
    "    \n",
    "Repeat for all the  possible couples of nodes"
   ]
  },
  {
   "cell_type": "code",
   "execution_count": 2,
   "metadata": {},
   "outputs": [],
   "source": [
    "#parameters\n",
    "N=1000\n",
    "p=0.05"
   ]
  },
  {
   "cell_type": "code",
   "execution_count": 3,
   "metadata": {},
   "outputs": [],
   "source": [
    "G=nx.Graph()"
   ]
  },
  {
   "cell_type": "code",
   "execution_count": 4,
   "metadata": {},
   "outputs": [],
   "source": [
    "#add the nodes\n",
    "nodes=[i for i in range(N)]\n",
    "G.add_nodes_from(nodes)"
   ]
  },
  {
   "cell_type": "code",
   "execution_count": 5,
   "metadata": {},
   "outputs": [],
   "source": [
    "# network creation\n",
    "edges=list(itertools.combinations(nodes,2))"
   ]
  },
  {
   "cell_type": "code",
   "execution_count": 6,
   "metadata": {},
   "outputs": [],
   "source": [
    "#generate edges\n",
    "for (u,v) in edges:\n",
    "    rand=random.uniform(0,1)\n",
    "    if rand<p:\n",
    "        G.add_edge(u,v)"
   ]
  },
  {
   "cell_type": "code",
   "execution_count": 7,
   "metadata": {},
   "outputs": [
    {
     "data": {
      "text/plain": [
       "24762"
      ]
     },
     "execution_count": 7,
     "metadata": {},
     "output_type": "execute_result"
    }
   ],
   "source": [
    "G.number_of_edges()"
   ]
  },
  {
   "cell_type": "markdown",
   "metadata": {},
   "source": [
    "# 2- generation with Netwrokx"
   ]
  },
  {
   "cell_type": "code",
   "execution_count": 8,
   "metadata": {},
   "outputs": [],
   "source": [
    "#parameters\n",
    "N=1000\n",
    "p=0.05\n",
    "\n",
    "G=nx.erdos_renyi_graph(N,p)"
   ]
  },
  {
   "cell_type": "markdown",
   "metadata": {},
   "source": [
    "# 3-ER graphs properties"
   ]
  },
  {
   "cell_type": "code",
   "execution_count": 9,
   "metadata": {},
   "outputs": [],
   "source": [
    "#parameters\n",
    "NList=[500,1000,1500,3000,5000]\n",
    "p=0.005\n",
    "\n",
    "GList=[]\n",
    "for N in NList:\n",
    "    G=nx.erdos_renyi_graph(N,p)\n",
    "    GList.append(G)"
   ]
  },
  {
   "cell_type": "code",
   "execution_count": 10,
   "metadata": {},
   "outputs": [],
   "source": [
    "# number of edges"
   ]
  },
  {
   "cell_type": "code",
   "execution_count": 11,
   "metadata": {},
   "outputs": [
    {
     "name": "stdout",
     "output_type": "stream",
     "text": [
      "number_of edges_observed: 625\n",
      "number_of edges_expected: 623.75\n",
      "\n",
      "number_of edges_observed: 2513\n",
      "number_of edges_expected: 2497.5\n",
      "\n",
      "number_of edges_observed: 5653\n",
      "number_of edges_expected: 5621.25\n",
      "\n",
      "number_of edges_observed: 22660\n",
      "number_of edges_expected: 22492.5\n",
      "\n",
      "number_of edges_observed: 62485\n",
      "number_of edges_expected: 62487.5\n",
      "\n"
     ]
    }
   ],
   "source": [
    "for (G,N) in zip(GList,NList):\n",
    "    number_of_edges=G.number_of_edges()\n",
    "    print('number_of edges_observed:', number_of_edges)\n",
    "    print('number_of edges_expected:',p*N*(N-1)/2)\n",
    "    print('')"
   ]
  },
  {
   "cell_type": "code",
   "execution_count": 12,
   "metadata": {},
   "outputs": [],
   "source": [
    "#averaege degree"
   ]
  },
  {
   "cell_type": "code",
   "execution_count": 13,
   "metadata": {},
   "outputs": [
    {
     "name": "stdout",
     "output_type": "stream",
     "text": [
      "average_degree_observed: 2.5\n",
      "average_degree_expected: 2.495\n",
      "\n",
      "average_degree_observed: 5.026\n",
      "average_degree_expected: 4.995\n",
      "\n",
      "average_degree_observed: 7.537333333333334\n",
      "average_degree_expected: 7.495\n",
      "\n",
      "average_degree_observed: 15.106666666666667\n",
      "average_degree_expected: 14.995000000000001\n",
      "\n",
      "average_degree_observed: 24.994\n",
      "average_degree_expected: 24.995\n",
      "\n"
     ]
    }
   ],
   "source": [
    "avK=[]\n",
    "for (G,N) in zip(GList,NList):\n",
    "    average_degree=np.mean(list(dict(nx.degree(G)).values()))\n",
    "    print('average_degree_observed:', average_degree)\n",
    "    print('average_degree_expected:',p*(N-1))\n",
    "    print('')\n",
    "    avK.append(average_degree)\n",
    "\n"
   ]
  },
  {
   "cell_type": "code",
   "execution_count": 14,
   "metadata": {},
   "outputs": [
    {
     "data": {
      "image/png": "[encoded data removed]",
      "text/plain": [
       "<Figure size 432x288 with 1 Axes>"
      ]
     },
     "metadata": {
      "needs_background": "light"
     },
     "output_type": "display_data"
    },
    {
     "name": "stdout",
     "output_type": "stream",
     "text": [
      "0.005000842105263158\n",
      "0.035948210526314715\n"
     ]
    }
   ],
   "source": [
    "plt.plot(np.array(NList)-1,avK,'o--')\n",
    "plt.xlabel('N-1')\n",
    "plt.ylabel(r'$\\langle k\\rangle$')\n",
    "plt.show()\n",
    "\n",
    "# <k>=p*(N-1) // y=mx+b\n",
    "m,b = np.polyfit(np.array(NList)-1, avK, 1)\n",
    "print(m)\n",
    "print(b)"
   ]
  },
  {
   "cell_type": "code",
   "execution_count": 15,
   "metadata": {},
   "outputs": [],
   "source": [
    "# density"
   ]
  },
  {
   "cell_type": "code",
   "execution_count": 16,
   "metadata": {},
   "outputs": [
    {
     "name": "stdout",
     "output_type": "stream",
     "text": [
      "density_observed: 0.00501002004008016\n",
      "density_expected: 0.005\n",
      "\n",
      "density_observed: 0.005031031031031031\n",
      "density_expected: 0.005\n",
      "\n",
      "density_observed: 0.005028241049588615\n",
      "density_expected: 0.005\n",
      "\n",
      "density_observed: 0.005037234633766811\n",
      "density_expected: 0.005\n",
      "\n",
      "density_observed: 0.004999799959991998\n",
      "density_expected: 0.005\n",
      "\n"
     ]
    }
   ],
   "source": [
    "for (G,N) in zip(GList,NList):\n",
    "    density=nx.density(G)\n",
    "    print('density_observed:', density)\n",
    "    print('density_expected:',p)\n",
    "    print('')\n",
    "    \n"
   ]
  },
  {
   "cell_type": "code",
   "execution_count": 17,
   "metadata": {},
   "outputs": [],
   "source": [
    "#another parameter setup\n",
    "N=1000\n",
    "pList=[0.0001,0.0005,0.001,0.002,0.003,0.005,0.01,0.03,0.05,0.07,0.1]\n",
    "\n",
    "GList=[]\n",
    "for p in pList:\n",
    "    G=nx.erdos_renyi_graph(N,p)\n",
    "    GList.append(G)"
   ]
  },
  {
   "cell_type": "code",
   "execution_count": 18,
   "metadata": {},
   "outputs": [],
   "source": [
    "# size of the giant component\n",
    "GCsize=[]\n",
    "for G in GList:\n",
    "    Comp=nx.connected_components(G)\n",
    "    GCsize.append(max([len(c) for c in Comp])/N)"
   ]
  },
  {
   "cell_type": "code",
   "execution_count": 19,
   "metadata": {},
   "outputs": [
    {
     "data": {
      "text/plain": [
       "(0.0, 0.01)"
      ]
     },
     "execution_count": 19,
     "metadata": {},
     "output_type": "execute_result"
    },
    {
     "data": {
      "image/png": "[encoded data removed]",
      "text/plain": [
       "<Figure size 432x288 with 1 Axes>"
      ]
     },
     "metadata": {
      "needs_background": "light"
     },
     "output_type": "display_data"
    }
   ],
   "source": [
    "plt.plot(pList,GCsize,'o--')\n",
    "plt.xlim(0,0.01)"
   ]
  },
  {
   "cell_type": "code",
   "execution_count": 20,
   "metadata": {},
   "outputs": [
    {
     "data": {
      "image/png": "[encoded data removed]",
      "text/plain": [
       "<Figure size 432x288 with 1 Axes>"
      ]
     },
     "metadata": {
      "needs_background": "light"
     },
     "output_type": "display_data"
    }
   ],
   "source": [
    "# degree distribution\n",
    "degrees=[]\n",
    "for G in GList:\n",
    "    degrees.append(list(dict(G.degree()).values()))\n",
    "\n",
    "for klist in degrees[-5:]:\n",
    "    y,x=np.histogram(klist, bins=10)\n",
    "    ynorm=y/sum(y)\n",
    "    plt.plot(x[1:],ynorm,'o-',label=p)\n",
    "for p in pList[-5:]:\n",
    "    plt.vlines(x=N*p,ymin=0,ymax=0.5,linestyle='--')\n",
    "plt.legend()\n",
    "plt.show()"
   ]
  },
  {
   "cell_type": "code",
   "execution_count": 21,
   "metadata": {},
   "outputs": [],
   "source": [
    "#parameter setup\n",
    "\n",
    "#we fix the average degree\n",
    "avK=5\n",
    "#This is the input list of the N values\n",
    "NList=[100,300,500,800,900,1000]\n",
    "pList=[avK/i for i in NList]\n",
    "\n",
    "GList=[]\n",
    "for (p,N) in zip(pList,NList):\n",
    "    G=nx.erdos_renyi_graph(N,p)\n",
    "    GList.append(G)"
   ]
  },
  {
   "cell_type": "code",
   "execution_count": 22,
   "metadata": {},
   "outputs": [],
   "source": [
    "#clustering\n",
    "clust=[]\n",
    "for G in GList:\n",
    "    clust.append(nx.average_clustering(G))"
   ]
  },
  {
   "cell_type": "code",
   "execution_count": 23,
   "metadata": {},
   "outputs": [
    {
     "data": {
      "image/png": "[encoded data removed]",
      "text/plain": [
       "<Figure size 432x288 with 1 Axes>"
      ]
     },
     "metadata": {
      "needs_background": "light"
     },
     "output_type": "display_data"
    }
   ],
   "source": [
    "plt.plot(NList,clust,'o--')\n",
    "plt.xlabel('N')\n",
    "plt.ylabel('c')\n",
    "plt.show()"
   ]
  },
  {
   "cell_type": "code",
   "execution_count": 24,
   "metadata": {},
   "outputs": [],
   "source": [
    "#average shortest path\n",
    "avsp=[]\n",
    "for G in GList:\n",
    "    Gcc = sorted(nx.connected_components(G), key=len, reverse=True)\n",
    "    G0 = G.subgraph(Gcc[0])\n",
    "    avsp.append(nx.average_shortest_path_length(G0))"
   ]
  },
  {
   "cell_type": "code",
   "execution_count": 25,
   "metadata": {},
   "outputs": [
    {
     "data": {
      "image/png": "[encoded data removed]",
      "text/plain": [
       "<Figure size 432x288 with 1 Axes>"
      ]
     },
     "metadata": {
      "needs_background": "light"
     },
     "output_type": "display_data"
    }
   ],
   "source": [
    "plt.plot(NList,avsp,'o--')\n",
    "plt.xlabel('N')\n",
    "plt.ylabel('c')\n",
    "plt.show()"
   ]
  },
  {
   "cell_type": "code",
   "execution_count": null,
   "metadata": {},
   "outputs": [],
   "source": []
  }
 ],
 "metadata": {
  "kernelspec": {
   "display_name": "Python 3",
   "language": "python",
   "name": "python3"
  },
  "language_info": {
   "codemirror_mode": {
    "name": "ipython",
    "version": 3
   },
   "file_extension": ".py",
   "mimetype": "text/x-python",
   "name": "python",
   "nbconvert_exporter": "python",
   "pygments_lexer": "ipython3",
   "version": "3.8.3"
  }
 },
 "nbformat": 4,
 "nbformat_minor": 4
}
