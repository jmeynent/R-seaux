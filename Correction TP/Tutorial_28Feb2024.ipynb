{
 "cells": [
  {
   "cell_type": "markdown",
   "metadata": {},
   "source": [
    "# Tutorial 28 February 2024\n",
    "\n",
    "## Personal networks, ego networks"
   ]
  },
  {
   "cell_type": "markdown",
   "metadata": {},
   "source": [
    "#### We use the data collected by R. Vacca : the personal networks of 102 Sri Lankan immigrants living in Milan, Italy. The original data are available at: https://github.com/raffaelevacca/egocentric-r-book and a riche tutorial is available at: https://raffaelevacca.github.io/egocentric-r-book/"
   ]
  },
  {
   "cell_type": "code",
   "execution_count": null,
   "metadata": {},
   "outputs": [],
   "source": [
    "########### Preparation ##############\n",
    "# import packages\n",
    "import networkx as nx\n",
    "import matplotlib.pyplot as plt\n",
    "import pandas as pd\n",
    "import numpy as np"
   ]
  },
  {
   "cell_type": "code",
   "execution_count": null,
   "metadata": {},
   "outputs": [],
   "source": [
    "# use pandas to import list of egos with attributes\n",
    "Egos = pd.read_csv('Ego.attr.csv', sep=';')\n",
    "print(Egos)\n",
    "# we focus on Ego n. 28 (the first in the list)"
   ]
  },
  {
   "cell_type": "code",
   "execution_count": null,
   "metadata": {},
   "outputs": [],
   "source": [
    "# use pandas to import list of alters of Ego 28, with their attributes\n",
    "Alters28 = pd.read_csv('Alter.attr.28.csv', sep=';')\n",
    "print(Alters28)"
   ]
  },
  {
   "cell_type": "code",
   "execution_count": null,
   "metadata": {},
   "outputs": [],
   "source": [
    "# use pandas to import edgelist (of Ego 28) as a table\n",
    "EgoEdges28 = pd.read_table('EgoNet.28.alone.csv', sep=';')\n",
    "EgoEdges28"
   ]
  },
  {
   "cell_type": "code",
   "execution_count": null,
   "metadata": {},
   "outputs": [],
   "source": [
    "# generate graph from pandas edgelist\n",
    "# it is an undirected graph\n",
    "\n",
    "EgoNet28 = nx.from_pandas_edgelist(EgoEdges28, 'V1', 'V2', create_using=nx.Graph()) \n",
    "print(EgoNet28)"
   ]
  },
  {
   "cell_type": "code",
   "execution_count": null,
   "metadata": {},
   "outputs": [],
   "source": [
    "# match nodes of graph with attributes of nodes\n",
    "NodeData = Alters28.set_index('alter_ID').to_dict('index').items()\n",
    "EgoNet28.add_nodes_from(NodeData)\n",
    "\n",
    "# view results\n",
    "print(EgoNet28.nodes(data=True))"
   ]
  },
  {
   "cell_type": "code",
   "execution_count": null,
   "metadata": {},
   "outputs": [],
   "source": [
    "# view edges\n",
    "print(EgoNet28.edges(data=True))"
   ]
  },
  {
   "cell_type": "code",
   "execution_count": null,
   "metadata": {},
   "outputs": [],
   "source": [
    "# Draw graph\n",
    "nx.draw(EgoNet28)\n",
    "plt.show()"
   ]
  },
  {
   "cell_type": "markdown",
   "metadata": {},
   "source": [
    "## Personal network composition indicators"
   ]
  },
  {
   "cell_type": "code",
   "execution_count": null,
   "metadata": {},
   "outputs": [],
   "source": [
    "# Is the network of Ego 28 homogeneous by age?\n",
    "# let's first look at the age of Ego 28 (the first in the table):\n",
    "Egos['ego.age'].iloc[0]\n",
    "# Ego turns out to be 61 yo"
   ]
  },
  {
   "cell_type": "code",
   "execution_count": null,
   "metadata": {},
   "outputs": [],
   "source": [
    "# Let's nos look at the age of alters\n",
    "#For a numerical variable, like age, we can take mean, variance, stdev, quartiles, median...\n",
    "print(Alters28['alter.age'].mean())\n",
    "print(Alters28['alter.age'].var())\n",
    "print(Alters28['alter.age'].std())\n",
    "print(Alters28['alter.age'].quantile([0.25, 0.5, 0.75]))\n",
    "# Ego 28's contacts are a bit younger, though with some variation"
   ]
  },
  {
   "cell_type": "code",
   "execution_count": null,
   "metadata": {},
   "outputs": [],
   "source": [
    "# Is the network of Ego 28 homogeneous by gender?\n",
    "# Let's first look at ego's gender:\n",
    "Egos['ego.sex'].iloc[0]\n",
    "# Ego turns out to be a man"
   ]
  },
  {
   "cell_type": "code",
   "execution_count": null,
   "metadata": {},
   "outputs": [],
   "source": [
    "# Let's nos look at his alters\n",
    "# For a binary variable like sex (well, at least in this case!),\n",
    "# we can take proportion/percentage of women in network:\n",
    "Alters28[['alter.sex']].value_counts(normalize=True)*100\n",
    "# Ego 28, a man, is mostly surrounded by men"
   ]
  },
  {
   "cell_type": "markdown",
   "metadata": {},
   "source": [
    "#### Do the same for one of the other binary variables, for example alter.nat (country of birth/nationality), or alter.fam (whether alter is family member)\n"
   ]
  },
  {
   "cell_type": "code",
   "execution_count": null,
   "metadata": {},
   "outputs": [],
   "source": [
    "## Blau index (for a categorical variable with more than 2 categories)\n",
    "\n",
    "# recall it is equal to 1 - p1^2 - p2^2 - ... - pk^2\n",
    "\n",
    "# first create a function\n",
    "def blau(df, col):\n",
    "    return (1- ((df[col].value_counts() / df[col].count()) ** 2).sum())\n",
    "\n",
    "# then apply it to the 'alters' table of ego 28, for example with attribute 'alter.age.cat' (= age category)\n",
    "blau(Alters28, 'alter.age.cat')"
   ]
  },
  {
   "cell_type": "code",
   "execution_count": null,
   "metadata": {},
   "outputs": [],
   "source": [
    "# Now, Index of Qualitative Variation\n",
    "# which is a normalized version of Blau\n",
    "# It is equal to Blau * k/(k-1), where k is the number of categories\n",
    "# If you need to see how many/ which categories are represented in a categorical variables\n",
    "print (Alters28['alter.age.cat'].unique())"
   ]
  },
  {
   "cell_type": "code",
   "execution_count": null,
   "metadata": {},
   "outputs": [],
   "source": [
    "# There are 7 categories! \n",
    "# We can now calculate the IQV\n",
    "\n",
    "blau(Alters28, 'alter.age.cat')*7/6"
   ]
  },
  {
   "cell_type": "code",
   "execution_count": null,
   "metadata": {},
   "outputs": [],
   "source": [
    "# Herfindahl-Hirschman index (HHI)\n",
    "# equal to 1 - Blau\n",
    "\n",
    "1 - blau(Alters28, 'alter.age.cat')"
   ]
  },
  {
   "cell_type": "markdown",
   "metadata": {},
   "source": [
    "#### Exercise: calculate these indexes for one of the other categorical variables, for example alter.rel (= type of relationship) or alter.res (=country of residence)"
   ]
  },
  {
   "cell_type": "markdown",
   "metadata": {},
   "source": [
    "## Structural measures"
   ]
  },
  {
   "cell_type": "code",
   "execution_count": null,
   "metadata": {},
   "outputs": [],
   "source": [
    "# find isolates (components consisting in 1 node)\n",
    "list(nx.isolates(EgoNet28)) "
   ]
  },
  {
   "cell_type": "code",
   "execution_count": null,
   "metadata": {},
   "outputs": [],
   "source": [
    "# density\n",
    "nx.density(EgoNet28) "
   ]
  },
  {
   "cell_type": "code",
   "execution_count": null,
   "metadata": {},
   "outputs": [],
   "source": [
    "# Transitivity\n",
    "print(nx.transitivity(EgoNet28)) "
   ]
  },
  {
   "cell_type": "code",
   "execution_count": null,
   "metadata": {},
   "outputs": [],
   "source": [
    "# Diameter\n",
    "nx.diameter(EgoNet28)"
   ]
  },
  {
   "cell_type": "code",
   "execution_count": null,
   "metadata": {},
   "outputs": [],
   "source": [
    "nx.average_shortest_path_length(EgoNet28)"
   ]
  },
  {
   "cell_type": "code",
   "execution_count": null,
   "metadata": {},
   "outputs": [],
   "source": [
    "# degree contrality\n",
    "nx.degree_centrality(EgoNet28)"
   ]
  },
  {
   "cell_type": "markdown",
   "metadata": {},
   "source": [
    "##### In principle, all structural measures can be calculated on a personal / ego network. Just be aware of the relevance of each measure (par ex. reciprocity is not meaningful in un undirected graph, diameter cannot be computed in an unconnected graph, etc.)."
   ]
  },
  {
   "cell_type": "markdown",
   "metadata": {},
   "source": [
    "## Exercise for next week"
   ]
  },
  {
   "cell_type": "markdown",
   "metadata": {},
   "source": [
    "##### Describe the ego-network of another actor in the database and compare it to the ego-network of Ego 28. in particular, look at their age and year of arrival in destination country (Italy). Do the egos who have spent more time in Italy have more diverse networks (for example with fewer family members, or with more residents in Italy than in native Sri Lanka, or with more Italian-born contacts)? Are more diverse networks also less cohesive (lower density or transitivity, or higher APL, etc.)? "
   ]
  },
  {
   "cell_type": "code",
   "execution_count": null,
   "metadata": {},
   "outputs": [],
   "source": []
  }
 ],
 "metadata": {
  "kernelspec": {
   "display_name": "Python 3 (ipykernel)",
   "language": "python",
   "name": "python3"
  },
  "language_info": {
   "codemirror_mode": {
    "name": "ipython",
    "version": 3
   },
   "file_extension": ".py",
   "mimetype": "text/x-python",
   "name": "python",
   "nbconvert_exporter": "python",
   "pygments_lexer": "ipython3",
   "version": "3.9.18"
  }
 },
 "nbformat": 4,
 "nbformat_minor": 4
}
