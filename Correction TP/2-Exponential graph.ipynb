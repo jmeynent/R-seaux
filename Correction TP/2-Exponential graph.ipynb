{
 "cells": [
  {
   "cell_type": "code",
   "execution_count": 1,
   "metadata": {},
   "outputs": [],
   "source": [
    "import networkx as nx\n",
    "import random\n",
    "import numpy as np\n",
    "import matplotlib.pyplot as plt"
   ]
  },
  {
   "cell_type": "code",
   "execution_count": 2,
   "metadata": {},
   "outputs": [],
   "source": [
    "#parameters\n",
    "Nini=5\n",
    "Nmax=10000\n",
    "m=3"
   ]
  },
  {
   "cell_type": "code",
   "execution_count": 3,
   "metadata": {},
   "outputs": [],
   "source": [
    "#initialization\n",
    "G=nx.complete_graph(Nini)"
   ]
  },
  {
   "cell_type": "code",
   "execution_count": 4,
   "metadata": {},
   "outputs": [
    {
     "data": {
      "text/plain": [
       "5"
      ]
     },
     "execution_count": 4,
     "metadata": {},
     "output_type": "execute_result"
    }
   ],
   "source": [
    "G.number_of_nodes()"
   ]
  },
  {
   "cell_type": "code",
   "execution_count": 5,
   "metadata": {},
   "outputs": [
    {
     "data": {
      "text/plain": [
       "10"
      ]
     },
     "execution_count": 5,
     "metadata": {},
     "output_type": "execute_result"
    }
   ],
   "source": [
    "G.number_of_edges()"
   ]
  },
  {
   "cell_type": "code",
   "execution_count": 7,
   "metadata": {},
   "outputs": [],
   "source": [
    "#node attachment loop:\n",
    "for t in range(Nini+1,Nmax):\n",
    "    listNodes=G.nodes()\n",
    "    selNodes=random.sample(G.nodes(),m)\n",
    "    #for i in selNodes:\n",
    "    #    selNodes.append((t,i)) \n",
    "    selEdges=[(t,i) for i in selNodes]\n",
    "    G.add_edges_from(selEdges)"
   ]
  },
  {
   "cell_type": "code",
   "execution_count": 8,
   "metadata": {},
   "outputs": [],
   "source": [
    "#degree distribution:\n",
    "k=[G.degree(n) for n in G.nodes()]"
   ]
  },
  {
   "cell_type": "code",
   "execution_count": 9,
   "metadata": {},
   "outputs": [],
   "source": [
    "def logBinning(degreeList,nbin):\n",
    "    kmin=min(degreeList)\n",
    "    kmax=max(degreeList)\n",
    "    logBins = np.logspace(np.log10(kmin), np.log10(kmax),num=nbin)\n",
    "    logBinDensity, binedges = np.histogram(degreeList, bins=logBins, density=True)\n",
    "    logBins = np.delete(logBins, -1)\n",
    "    return logBinDensity, logBins"
   ]
  },
  {
   "cell_type": "code",
   "execution_count": 14,
   "metadata": {},
   "outputs": [
    {
     "data": {
      "image/png": "[encoded data removed]",
      "text/plain": [
       "<Figure size 432x288 with 1 Axes>"
      ]
     },
     "metadata": {
      "needs_background": "light"
     },
     "output_type": "display_data"
    }
   ],
   "source": [
    "y,x=logBinning(np.array(k),12)\n",
    "plt.semilogy(x,y,'o',markersize=10)\n",
    "plt.xlabel('k',size=15)\n",
    "plt.ylabel('P(k)',size=15)\n",
    "plt.show()"
   ]
  },
  {
   "cell_type": "markdown",
   "metadata": {},
   "source": [
    "# IT HAS AN EXPONENTIAL BEHAVIOR!!! IT IS NOT A POWER LAW"
   ]
  },
  {
   "cell_type": "code",
   "execution_count": null,
   "metadata": {},
   "outputs": [],
   "source": []
  }
 ],
 "metadata": {
  "kernelspec": {
   "display_name": "Python 3",
   "language": "python",
   "name": "python3"
  },
  "language_info": {
   "codemirror_mode": {
    "name": "ipython",
    "version": 3
   },
   "file_extension": ".py",
   "mimetype": "text/x-python",
   "name": "python",
   "nbconvert_exporter": "python",
   "pygments_lexer": "ipython3",
   "version": "3.8.3"
  }
 },
 "nbformat": 4,
 "nbformat_minor": 2
}
