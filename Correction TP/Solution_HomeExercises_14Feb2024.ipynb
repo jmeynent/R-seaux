{
 "cells": [
  {
   "cell_type": "markdown",
   "metadata": {},
   "source": [
    "## Home exercises week 2"
   ]
  },
  {
   "cell_type": "code",
   "execution_count": null,
   "metadata": {},
   "outputs": [],
   "source": [
    "import networkx as nx\n",
    "import matplotlib.pyplot as plt\n",
    "import pandas as pd\n",
    "import numpy as np"
   ]
  },
  {
   "cell_type": "markdown",
   "metadata": {},
   "source": [
    "### Matching graphs and node attributes"
   ]
  },
  {
   "cell_type": "code",
   "execution_count": null,
   "metadata": {},
   "outputs": [],
   "source": [
    "# Create directed graph\n",
    "ELfriendG = nx.read_edgelist('ELfriend_edgelist.txt', comments=\"node\", create_using=nx.DiGraph(), nodetype=int)\n",
    "#Create undirected graph\n",
    "ELcoworkG = nx.read_edgelist('ELcowork_edgelist.txt', comments=\"node\", create_using=nx.Graph(), nodetype=int)"
   ]
  },
  {
   "cell_type": "code",
   "execution_count": null,
   "metadata": {},
   "outputs": [],
   "source": [
    "ELfriendG.number_of_nodes(), ELcoworkG.number_of_nodes()"
   ]
  },
  {
   "cell_type": "code",
   "execution_count": null,
   "metadata": {},
   "outputs": [],
   "source": [
    "# read the attributes\n",
    "ELnodes = pd.read_table(\"ELnodeAttributes.txt\", sep='\\t')"
   ]
  },
  {
   "cell_type": "code",
   "execution_count": null,
   "metadata": {
    "scrolled": true
   },
   "outputs": [],
   "source": [
    "# match nodes of directed graph with attributes of nodes\n",
    "ELnodeData = ELnodes.set_index('Node').to_dict('index').items()\n",
    "ELfriendG.add_nodes_from(ELnodeData)\n",
    "ELcoworkG.add_nodes_from(ELnodeData)"
   ]
  },
  {
   "cell_type": "code",
   "execution_count": null,
   "metadata": {},
   "outputs": [],
   "source": [
    "ELfriendG.number_of_nodes(), ELcoworkG.number_of_nodes()"
   ]
  },
  {
   "cell_type": "markdown",
   "metadata": {},
   "source": [
    "The number of nodes has changed after adding attributes, because both graphs have isolates (not in the edge list). This will have implications for parts of our analysis. For now, we consider graphs with isolates."
   ]
  },
  {
   "cell_type": "code",
   "execution_count": null,
   "metadata": {},
   "outputs": [],
   "source": [
    "# let's look at isolates\n",
    "list(nx.isolates(ELfriendG)), list(nx.isolates(ELcoworkG))"
   ]
  },
  {
   "cell_type": "code",
   "execution_count": null,
   "metadata": {
    "scrolled": true
   },
   "outputs": [],
   "source": [
    "# let's look at attribute 'Gender' (same for both graphs)\n",
    "gender = nx.get_node_attributes(ELfriendG,'Gender')\n",
    "print(gender)"
   ]
  },
  {
   "cell_type": "code",
   "execution_count": null,
   "metadata": {},
   "outputs": [],
   "source": [
    "# reciprocity (only interesting for ELfriend as it is an undirected graph)\n",
    "nx.reciprocity(ELfriendG)\n",
    "print(round(nx.reciprocity(ELfriendG)*100,1), \"% of friendship relations are reciprocical.\")"
   ]
  },
  {
   "cell_type": "code",
   "execution_count": null,
   "metadata": {
    "scrolled": true
   },
   "outputs": [],
   "source": [
    "# One can look at the local transitivity\n",
    "print(nx.clustering(ELfriendG), nx.clustering(ELcoworkG))"
   ]
  },
  {
   "cell_type": "code",
   "execution_count": null,
   "metadata": {},
   "outputs": [],
   "source": [
    "# we expect a local transitivity of 0 for isolates:\n",
    "print(nx.clustering(ELfriendG)[44], nx.clustering(ELfriendG)[47], nx.clustering(ELcoworkG)[8])"
   ]
  },
  {
   "cell_type": "code",
   "execution_count": null,
   "metadata": {},
   "outputs": [],
   "source": [
    "# Let's look at the average local transitivity\n",
    "print(nx.average_clustering(ELfriendG), nx.average_clustering(ELcoworkG))\n",
    "# Triads: global transitivity\n",
    "print(nx.transitivity(ELfriendG), nx.transitivity(ELcoworkG))"
   ]
  },
  {
   "cell_type": "markdown",
   "metadata": {},
   "source": [
    "One can notice average local transitivity is close to global transitivity for both graphs."
   ]
  },
  {
   "cell_type": "markdown",
   "metadata": {},
   "source": [
    "### Other indicators of cohesion"
   ]
  },
  {
   "cell_type": "code",
   "execution_count": null,
   "metadata": {},
   "outputs": [],
   "source": [
    "# Density\n",
    "nx.density(ELfriendG), nx.density(ELcoworkG)"
   ]
  },
  {
   "cell_type": "code",
   "execution_count": null,
   "metadata": {},
   "outputs": [],
   "source": [
    "# to find cliques that are only defined for undirected graphs, we need to convert ELfriendG to an undirected graph\n",
    "ELfriendUG = nx.DiGraph.to_undirected(ELfriendG)\n",
    "print(list(nx.find_cliques(ELfriendUG)))\n",
    "print(list(nx.find_cliques(ELcoworkG)))"
   ]
  },
  {
   "cell_type": "code",
   "execution_count": null,
   "metadata": {},
   "outputs": [],
   "source": [
    "len(list(nx.find_cliques(ELfriendUG))), len(list(nx.find_cliques(ELcoworkG)))"
   ]
  },
  {
   "cell_type": "markdown",
   "metadata": {},
   "source": [
    "### Global structures: connectivity"
   ]
  },
  {
   "cell_type": "markdown",
   "metadata": {},
   "source": [
    "Both graphs have isolates. Thus, both are disconnected graphs, for which the diameter and the average shortest path length are not defined:"
   ]
  },
  {
   "cell_type": "code",
   "execution_count": null,
   "metadata": {
    "scrolled": true
   },
   "outputs": [],
   "source": [
    "print(nx.is_weakly_connected(ELfriendG))\n",
    "print(nx.is_connected(ELcoworkG))"
   ]
  },
  {
   "cell_type": "markdown",
   "metadata": {},
   "source": [
    "Let's now look at the connectivity of these graphs after removing isolates."
   ]
  },
  {
   "cell_type": "code",
   "execution_count": null,
   "metadata": {},
   "outputs": [],
   "source": [
    "ELfriend_without_isolatesG = ELfriendG.copy() # we make a copy because we will need the initial graph afterwards\n",
    "ELfriend_without_isolatesG.remove_nodes_from(list(nx.isolates(ELfriendG)))"
   ]
  },
  {
   "cell_type": "code",
   "execution_count": null,
   "metadata": {},
   "outputs": [],
   "source": [
    "ELfriend_without_isolatesG.number_of_nodes()"
   ]
  },
  {
   "cell_type": "code",
   "execution_count": null,
   "metadata": {},
   "outputs": [],
   "source": [
    "ELcowork_without_isolatesG = ELcoworkG.copy()\n",
    "ELcowork_without_isolatesG.remove_nodes_from(list(nx.isolates(ELcoworkG)))"
   ]
  },
  {
   "cell_type": "code",
   "execution_count": null,
   "metadata": {},
   "outputs": [],
   "source": [
    "print(nx.is_strongly_connected(ELfriend_without_isolatesG))\n",
    "print(nx.is_weakly_connected(ELfriend_without_isolatesG))"
   ]
  },
  {
   "cell_type": "code",
   "execution_count": null,
   "metadata": {},
   "outputs": [],
   "source": [
    "ELfriend_without_isolatesUG = nx.DiGraph.to_undirected(ELfriend_without_isolatesG)\n",
    "print(nx.diameter(ELfriend_without_isolatesUG))\n",
    "print(nx.average_shortest_path_length(ELfriend_without_isolatesG))"
   ]
  },
  {
   "cell_type": "code",
   "execution_count": null,
   "metadata": {
    "scrolled": true
   },
   "outputs": [],
   "source": [
    "print(nx.is_connected(ELcowork_without_isolatesG))\n",
    "print(nx.diameter(ELcowork_without_isolatesG))\n",
    "print(nx.average_shortest_path_length(ELcowork_without_isolatesG))"
   ]
  },
  {
   "cell_type": "markdown",
   "metadata": {},
   "source": [
    "### Centrality"
   ]
  },
  {
   "cell_type": "markdown",
   "metadata": {},
   "source": [
    "We are now again considering graphs with isolates."
   ]
  },
  {
   "cell_type": "code",
   "execution_count": null,
   "metadata": {},
   "outputs": [],
   "source": [
    "# degree centrality (without considering directed edges)\n",
    "print(nx.degree_centrality(ELfriendG))\n",
    "print(nx.degree_centrality(ELcoworkG))\n",
    "\n",
    "# indegree centrality (incoming ties, only for directed graphs)\n",
    "print(nx.in_degree_centrality(ELfriendG))\n",
    "\n",
    "# indegree centrality (outgoing ties)\n",
    "print(nx.out_degree_centrality(ELfriendG))"
   ]
  },
  {
   "cell_type": "code",
   "execution_count": null,
   "metadata": {
    "scrolled": true
   },
   "outputs": [],
   "source": [
    "# Eigenvector centrality\n",
    "print(nx.eigenvector_centrality(ELfriendG))\n",
    "print(nx.eigenvector_centrality(ELfriendG.reverse()))\n",
    "# corresponding to the in-edges of the graph and to the out-edges with G.reverse()\n",
    "print(nx.eigenvector_centrality(ELcoworkG))"
   ]
  },
  {
   "cell_type": "code",
   "execution_count": null,
   "metadata": {},
   "outputs": [],
   "source": [
    "# Closeness centrality\n",
    "print(nx.closeness_centrality(ELfriendG)) # uses the inward distance to a node\n",
    "print(nx.closeness_centrality(ELcoworkG))"
   ]
  },
  {
   "cell_type": "code",
   "execution_count": null,
   "metadata": {
    "scrolled": true
   },
   "outputs": [],
   "source": [
    "# Betweenness centrality\n",
    "print(nx.betweenness_centrality(ELfriendG))\n",
    "print(nx.betweenness_centrality(ELcoworkG))"
   ]
  }
 ],
 "metadata": {
  "kernelspec": {
   "display_name": "Python 3 (ipykernel)",
   "language": "python",
   "name": "python3"
  },
  "language_info": {
   "codemirror_mode": {
    "name": "ipython",
    "version": 3
   },
   "file_extension": ".py",
   "mimetype": "text/x-python",
   "name": "python",
   "nbconvert_exporter": "python",
   "pygments_lexer": "ipython3",
   "version": "3.9.18"
  }
 },
 "nbformat": 4,
 "nbformat_minor": 4
}
