{
 "cells": [
  {
   "cell_type": "markdown",
   "metadata": {},
   "source": [
    "## Home exercise, February 7th, 2024"
   ]
  },
  {
   "cell_type": "code",
   "execution_count": null,
   "metadata": {},
   "outputs": [],
   "source": [
    "# Preparation\n",
    "\n",
    "import networkx as nx # import package networkx\n",
    "import matplotlib.pyplot as plt # import matplotlib (to draw better graphs)"
   ]
  },
  {
   "cell_type": "markdown",
   "metadata": {},
   "source": [
    "### 1. ELfriend"
   ]
  },
  {
   "cell_type": "markdown",
   "metadata": {},
   "source": [
    "1a. Create graph; see its basic properties; view nodes; view edges; calculate in- and out-degrees; view the neighbors of one node of your choice; plot graph."
   ]
  },
  {
   "cell_type": "code",
   "execution_count": null,
   "metadata": {},
   "outputs": [],
   "source": [
    "# Create directed graph\n",
    "ELfriendG = nx.read_edgelist('ELfriend_edgelist.txt', comments=\"node\", create_using=nx.DiGraph(), nodetype=int)\n",
    "\n",
    "# NB: the option 'create_using=nx.DiGraph()' generates a DIRECTED graph\n",
    "# therefore, there will be a difference between in- and out-degrees\n",
    "# and between predecessors and successors"
   ]
  },
  {
   "cell_type": "code",
   "execution_count": null,
   "metadata": {},
   "outputs": [],
   "source": [
    "# Number of nodes and edges\n",
    "ELfriendG.number_of_nodes(), ELfriendG.number_of_edges()"
   ]
  },
  {
   "cell_type": "code",
   "execution_count": null,
   "metadata": {
    "scrolled": true
   },
   "outputs": [],
   "source": [
    "# See basic properties of graph\n",
    "print(ELfriendG.nodes())\n",
    "print(ELfriendG.edges())"
   ]
  },
  {
   "cell_type": "code",
   "execution_count": null,
   "metadata": {},
   "outputs": [],
   "source": [
    "# Indegrees\n",
    "ELfriendG.in_degree()"
   ]
  },
  {
   "cell_type": "code",
   "execution_count": null,
   "metadata": {},
   "outputs": [],
   "source": [
    "# Outdegrees\n",
    "ELfriendG.out_degree()"
   ]
  },
  {
   "cell_type": "code",
   "execution_count": null,
   "metadata": {},
   "outputs": [],
   "source": [
    "# Degree (= sum of in and outdegree)\n",
    "ELfriendG.degree()"
   ]
  },
  {
   "cell_type": "code",
   "execution_count": null,
   "metadata": {},
   "outputs": [],
   "source": [
    "# Let's look at a node in particular, for ex. 16\n",
    "ELfriendG.in_degree(16), ELfriendG.out_degree(16), ELfriendG.degree(16)"
   ]
  },
  {
   "cell_type": "code",
   "execution_count": null,
   "metadata": {},
   "outputs": [],
   "source": [
    "# Neighbours of node 16: predecessors\n",
    "list(ELfriendG.predecessors(16))\n",
    "# The predecessors of a node n are the nodes m such that there exists a directed edge from m to n."
   ]
  },
  {
   "cell_type": "code",
   "execution_count": null,
   "metadata": {},
   "outputs": [],
   "source": [
    "# Neighbours of node 16: successors\n",
    "list(ELfriendG.successors(16))\n",
    "# The successors of a node n are the nodes h such that there exists a directed edge from n to h."
   ]
  },
  {
   "cell_type": "code",
   "execution_count": null,
   "metadata": {},
   "outputs": [],
   "source": [
    "# plot ELfriendG\n",
    "nx.draw(ELfriendG)\n",
    "plt.show()"
   ]
  },
  {
   "cell_type": "markdown",
   "metadata": {},
   "source": [
    "1b. Replace two edges of your choice and re-do 1a."
   ]
  },
  {
   "cell_type": "code",
   "execution_count": null,
   "metadata": {},
   "outputs": [],
   "source": [
    "# Remove and add edges\n",
    "ELfriendG.remove_edges_from([(2,16), (15,16)]) # For example: I remove two incoming ties to node 16\n",
    "ELfriendG.add_edges_from([(16,19), (16,18)]) # For example: I add two outgoing ties from node 16"
   ]
  },
  {
   "cell_type": "code",
   "execution_count": null,
   "metadata": {},
   "outputs": [],
   "source": [
    "#number of nodes and edges\n",
    "ELfriendG.number_of_nodes(), ELfriendG.number_of_edges()"
   ]
  },
  {
   "cell_type": "code",
   "execution_count": null,
   "metadata": {
    "scrolled": true
   },
   "outputs": [],
   "source": [
    "print(ELfriendG.nodes())\n",
    "print(ELfriendG.edges())"
   ]
  },
  {
   "cell_type": "code",
   "execution_count": null,
   "metadata": {
    "scrolled": true
   },
   "outputs": [],
   "source": [
    "#indegrees\n",
    "ELfriendG.in_degree()"
   ]
  },
  {
   "cell_type": "code",
   "execution_count": null,
   "metadata": {},
   "outputs": [],
   "source": [
    "#outdegrees\n",
    "ELfriendG.out_degree()"
   ]
  },
  {
   "cell_type": "code",
   "execution_count": null,
   "metadata": {},
   "outputs": [],
   "source": [
    "# Let's look at the changes this made for node 16\n",
    "ELfriendG.in_degree(16), ELfriendG.out_degree(16)"
   ]
  },
  {
   "cell_type": "code",
   "execution_count": null,
   "metadata": {},
   "outputs": [],
   "source": [
    "# Neighbors of node 16: predecessors\n",
    "list(ELfriendG.predecessors(16))"
   ]
  },
  {
   "cell_type": "markdown",
   "metadata": {},
   "source": [
    "As expected, node 16 has \"lost\" two predecessors."
   ]
  },
  {
   "cell_type": "code",
   "execution_count": null,
   "metadata": {},
   "outputs": [],
   "source": [
    "# Neighbors of node 16: successors\n",
    "list(ELfriendG.successors(16))"
   ]
  },
  {
   "cell_type": "markdown",
   "metadata": {},
   "source": [
    "As expected, node 16 now has two more successors (nodes 2 and 15)"
   ]
  },
  {
   "cell_type": "code",
   "execution_count": null,
   "metadata": {},
   "outputs": [],
   "source": [
    "# Plot ELfriendG modified\n",
    "nx.draw(ELfriendG)\n",
    "plt.show()"
   ]
  },
  {
   "cell_type": "markdown",
   "metadata": {},
   "source": [
    "### 2. ELcowork"
   ]
  },
  {
   "cell_type": "markdown",
   "metadata": {},
   "source": [
    "2a. Create graph; see its basic properties; view nodes; view edges; calculate degrees; view the neighbors of one node of your choice; plot graph."
   ]
  },
  {
   "cell_type": "code",
   "execution_count": null,
   "metadata": {},
   "outputs": [],
   "source": [
    "# Create undirected graph\n",
    "ELcoworkG = nx.read_edgelist('ELcowork_edgelist.txt', comments=\"node\", create_using=nx.Graph(), nodetype=int)\n",
    "\n",
    "# here, Cowork is UNDIRECTED (see data description document)\n",
    "# therefore, the right option to use is 'create_using=nx.Graph()' (or no option at all as this is the default)\n",
    "# in this case, there is no difference between in- and out-degrees\n",
    "# nor between predecessors and successors"
   ]
  },
  {
   "cell_type": "code",
   "execution_count": null,
   "metadata": {},
   "outputs": [],
   "source": [
    "#number of nodes and edges\n",
    "ELcoworkG.number_of_nodes(), ELcoworkG.number_of_edges()"
   ]
  },
  {
   "cell_type": "code",
   "execution_count": null,
   "metadata": {},
   "outputs": [],
   "source": [
    "#see basic properties\n",
    "print(ELcoworkG.nodes())\n",
    "print(ELcoworkG.edges())"
   ]
  },
  {
   "cell_type": "code",
   "execution_count": null,
   "metadata": {},
   "outputs": [],
   "source": [
    "# Degree\n",
    "ELcoworkG.degree()"
   ]
  },
  {
   "cell_type": "code",
   "execution_count": null,
   "metadata": {},
   "outputs": [],
   "source": [
    "# Let's choose a particular node, for example 22\n",
    "ELcoworkG.degree(22)"
   ]
  },
  {
   "cell_type": "code",
   "execution_count": null,
   "metadata": {},
   "outputs": [],
   "source": [
    "# Neighbors of node 22\n",
    "list(ELcoworkG.adj[22])"
   ]
  },
  {
   "cell_type": "code",
   "execution_count": null,
   "metadata": {},
   "outputs": [],
   "source": [
    "# Plot ELcoworkG\n",
    "nx.draw(ELcoworkG)\n",
    "plt.show()"
   ]
  },
  {
   "cell_type": "markdown",
   "metadata": {},
   "source": [
    "2b. Remove three nodes of your choice and re-do 2a."
   ]
  },
  {
   "cell_type": "code",
   "execution_count": null,
   "metadata": {},
   "outputs": [],
   "source": [
    "# Remove three nodes\n",
    "ELcoworkG.remove_nodes_from([2, 17, 71]) # All three are neighbours of node 22"
   ]
  },
  {
   "cell_type": "code",
   "execution_count": null,
   "metadata": {},
   "outputs": [],
   "source": [
    "#number of nodes and edges\n",
    "ELcoworkG.number_of_nodes(), ELcoworkG.number_of_edges()"
   ]
  },
  {
   "cell_type": "markdown",
   "metadata": {},
   "source": [
    "We removed three nodes (from 70 to 67 nodes).\n",
    "This automatically eliminated all edges involving those nodes."
   ]
  },
  {
   "cell_type": "code",
   "execution_count": null,
   "metadata": {},
   "outputs": [],
   "source": [
    "# See basic properties\n",
    "print(ELcoworkG.nodes())\n",
    "print(ELcoworkG.edges())"
   ]
  },
  {
   "cell_type": "code",
   "execution_count": null,
   "metadata": {},
   "outputs": [],
   "source": [
    "# Degree\n",
    "ELcoworkG.degree()"
   ]
  },
  {
   "cell_type": "code",
   "execution_count": null,
   "metadata": {},
   "outputs": [],
   "source": [
    "# Let's go back to node 22\n",
    "ELcoworkG.degree(22)"
   ]
  },
  {
   "cell_type": "markdown",
   "metadata": {},
   "source": [
    "As expected, node 22 has a lower degree as three of its neighbors have been removed."
   ]
  },
  {
   "cell_type": "code",
   "execution_count": null,
   "metadata": {},
   "outputs": [],
   "source": [
    "#neighbors of node 22\n",
    "list(ELcoworkG.adj[22])"
   ]
  },
  {
   "cell_type": "markdown",
   "metadata": {},
   "source": [
    "As expected, node 22 has lost neighbors 2, 17 and 71."
   ]
  },
  {
   "cell_type": "code",
   "execution_count": null,
   "metadata": {},
   "outputs": [],
   "source": [
    "# Plot ELcoworkG\n",
    "nx.draw(ELcoworkG)\n",
    "plt.show()"
   ]
  },
  {
   "cell_type": "code",
   "execution_count": null,
   "metadata": {},
   "outputs": [],
   "source": [
    "#### In preparation of today's class:\n",
    "\n",
    "## Why does the difference between Graph and DiGraph matter?\n",
    "\n",
    "# let's see how many edges ELcoworkG has:\n",
    "print(ELcoworkG.number_of_edges())\n",
    "\n",
    "# Now, let's repeat the calculation with a directed version of the cowork graph:\n",
    "ELcoworkG1 = nx.read_edgelist('ELcowork_edgelist.txt',comments=\"node\",create_using=nx.DiGraph(),nodetype=int)\n",
    "print(ELcoworkG1.number_of_edges())\n",
    "\n",
    "# what do you conclude?\n",
    "\n"
   ]
  },
  {
   "cell_type": "code",
   "execution_count": null,
   "metadata": {},
   "outputs": [],
   "source": [
    "#### Also in anticipation of today's class (notion of isolates):\n",
    "\n",
    "# How many nodes does ELfriendG have?\n",
    "print(ELfriendG.number_of_nodes())\n",
    "\n",
    "# And, ELcoworkG?\n",
    "print(ELcoworkG.number_of_nodes())\n",
    "\n",
    "# Why this difference?"
   ]
  },
  {
   "cell_type": "code",
   "execution_count": null,
   "metadata": {},
   "outputs": [],
   "source": []
  }
 ],
 "metadata": {
  "kernelspec": {
   "display_name": "Python 3 (ipykernel)",
   "language": "python",
   "name": "python3"
  },
  "language_info": {
   "codemirror_mode": {
    "name": "ipython",
    "version": 3
   },
   "file_extension": ".py",
   "mimetype": "text/x-python",
   "name": "python",
   "nbconvert_exporter": "python",
   "pygments_lexer": "ipython3",
   "version": "3.9.18"
  }
 },
 "nbformat": 4,
 "nbformat_minor": 4
}
