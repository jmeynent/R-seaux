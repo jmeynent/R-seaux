{
 "cells": [
  {
   "cell_type": "code",
   "execution_count": 1,
   "id": "a6cde716-3263-488b-a3db-7a1664b7be42",
   "metadata": {},
   "outputs": [],
   "source": [
    "#Packages\n",
    "import networkx as nx\n",
    "import matplotlib.pyplot as plt\n",
    "import pandas as pd\n",
    "import numpy as np"
   ]
  },
  {
   "cell_type": "code",
   "execution_count": 2,
   "id": "c31d8dcc-7255-4c0a-8917-2320493e6c9d",
   "metadata": {},
   "outputs": [],
   "source": [
    "#Importation of networks and attributes\n",
    "ELadvice=  nx.read_edgelist('ELadvice_edgelist.txt',comments=\"node\",create_using=nx.DiGraph(),nodetype=int)\n",
    "ELcowork =  nx.read_edgelist('ELcowork_edgelist.txt',comments=\"node\",create_using=nx.Graph(),nodetype=int)\n",
    "ELfriend = nx.read_edgelist('ELfriend_edgelist.txt',comments=\"node\",create_using=nx.DiGraph(),nodetype=int)\n",
    "attr = pd.read_table('ELnodeAttributes.txt', sep = \"\\t\")"
   ]
  },
  {
   "cell_type": "code",
   "execution_count": 3,
   "id": "37c083d3-bb13-4e68-bd95-1e961d2ad926",
   "metadata": {},
   "outputs": [],
   "source": [
    "#Association of attribute with network ElFriend\n",
    "ELNodeData = attr.set_index('Node').to_dict('index').items()\n",
    "ELfriend.add_nodes_from(ELNodeData)"
   ]
  },
  {
   "cell_type": "code",
   "execution_count": 8,
   "id": "478a56ee-0c8f-4bb8-beaf-f073f2fdb6f1",
   "metadata": {},
   "outputs": [],
   "source": [
    "#Association for the other networks \n",
    "ELadvice.add_nodes_from(ELNodeData)\n",
    "ELcowork.add_nodes_from(ELNodeData)"
   ]
  },
  {
   "cell_type": "code",
   "execution_count": 4,
   "id": "c499f059-0412-478d-9d20-dc45bdee07f3",
   "metadata": {},
   "outputs": [
    {
     "data": {
      "text/plain": [
       "Gender\n",
       "1    0.746479\n",
       "2    0.253521\n",
       "Name: proportion, dtype: float64"
      ]
     },
     "execution_count": 4,
     "metadata": {},
     "output_type": "execute_result"
    }
   ],
   "source": [
    "#Proportion of women \n",
    "attr['Gender'].value_counts(normalize=True)"
   ]
  },
  {
   "cell_type": "markdown",
   "id": "80b58769-3606-4311-9d7c-ba96a8aa6867",
   "metadata": {},
   "source": [
    "25% of the lawyers are women in our sample. "
   ]
  },
  {
   "cell_type": "code",
   "execution_count": 5,
   "id": "7a7161f8-1081-4966-b7ac-4c7c8e3f1729",
   "metadata": {},
   "outputs": [],
   "source": [
    "Deg = dict(ELfriend.in_degree())"
   ]
  },
  {
   "cell_type": "code",
   "execution_count": 7,
   "id": "ff43047b-5bf2-458f-a3ee-f88c8b041814",
   "metadata": {},
   "outputs": [
    {
     "name": "stdout",
     "output_type": "stream",
     "text": [
      "1: 8.056603773584905\n",
      "2: 8.222222222222221\n"
     ]
    }
   ],
   "source": [
    "genre_degrees = {}\n",
    "\n",
    "#We get the degree by gender\n",
    "for node, data in ELNodeData:  \n",
    "    genre = data.get('Gender') \n",
    "    if genre:\n",
    "        if genre not in genre_degrees:\n",
    "            genre_degrees[genre] = []\n",
    "        genre_degrees[genre].append(Deg.get(node, 0))\n",
    "\n",
    "# Calculus of average degree\n",
    "average_degree_by_genre = {}\n",
    "for genre, degrees in genre_degrees.items():\n",
    "    average_degree_by_genre[genre] = sum(degrees) / len(degrees)\n",
    "\n",
    "# Print\n",
    "for genre, avg_degree in average_degree_by_genre.items():\n",
    "    print(f\"{genre}: {avg_degree}\")"
   ]
  },
  {
   "cell_type": "code",
   "execution_count": 54,
   "id": "363b6b01-0dc8-41ac-8828-293743b86a0c",
   "metadata": {},
   "outputs": [
    {
     "name": "stderr",
     "output_type": "stream",
     "text": [
      "/tmp/ipykernel_293/2746766153.py:9: FutureWarning: ChainedAssignmentError: behaviour will change in pandas 3.0!\n",
      "You are setting values through chained assignment. Currently this works in certain cases, but when using Copy-on-Write (which will become the default behaviour in pandas 3.0) this will never work to update the original DataFrame or Series, because the intermediate object on which we are setting values will behave as a copy.\n",
      "A typical example is when you are setting values in a column of a DataFrame, like:\n",
      "\n",
      "df[\"col\"][row_indexer] = value\n",
      "\n",
      "Use `df.loc[row_indexer, \"col\"] = values` instead, to perform the assignment in a single step and ensure this keeps updating the original `df`.\n",
      "\n",
      "See the caveats in the documentation: https://pandas.pydata.org/pandas-docs/stable/user_guide/indexing.html#returning-a-view-versus-a-copy\n",
      "\n",
      "  df[\"School\"][i]=df[\"School\"][i].replace(\"}\",'')\n",
      "/tmp/ipykernel_293/2746766153.py:11: FutureWarning: ChainedAssignmentError: behaviour will change in pandas 3.0!\n",
      "You are setting values through chained assignment. Currently this works in certain cases, but when using Copy-on-Write (which will become the default behaviour in pandas 3.0) this will never work to update the original DataFrame or Series, because the intermediate object on which we are setting values will behave as a copy.\n",
      "A typical example is when you are setting values in a column of a DataFrame, like:\n",
      "\n",
      "df[\"col\"][row_indexer] = value\n",
      "\n",
      "Use `df.loc[row_indexer, \"col\"] = values` instead, to perform the assignment in a single step and ensure this keeps updating the original `df`.\n",
      "\n",
      "See the caveats in the documentation: https://pandas.pydata.org/pandas-docs/stable/user_guide/indexing.html#returning-a-view-versus-a-copy\n",
      "\n",
      "  df[\"status\"][i]=df[\"status\"][i].replace(\", 'Gender'\",'')\n",
      "/tmp/ipykernel_293/2746766153.py:13: FutureWarning: ChainedAssignmentError: behaviour will change in pandas 3.0!\n",
      "You are setting values through chained assignment. Currently this works in certain cases, but when using Copy-on-Write (which will become the default behaviour in pandas 3.0) this will never work to update the original DataFrame or Series, because the intermediate object on which we are setting values will behave as a copy.\n",
      "A typical example is when you are setting values in a column of a DataFrame, like:\n",
      "\n",
      "df[\"col\"][row_indexer] = value\n",
      "\n",
      "Use `df.loc[row_indexer, \"col\"] = values` instead, to perform the assignment in a single step and ensure this keeps updating the original `df`.\n",
      "\n",
      "See the caveats in the documentation: https://pandas.pydata.org/pandas-docs/stable/user_guide/indexing.html#returning-a-view-versus-a-copy\n",
      "\n",
      "  df[\"Gender\"][i]=df[\"Gender\"][i].replace(\", 'Office'\",'')\n",
      "/tmp/ipykernel_293/2746766153.py:15: FutureWarning: ChainedAssignmentError: behaviour will change in pandas 3.0!\n",
      "You are setting values through chained assignment. Currently this works in certain cases, but when using Copy-on-Write (which will become the default behaviour in pandas 3.0) this will never work to update the original DataFrame or Series, because the intermediate object on which we are setting values will behave as a copy.\n",
      "A typical example is when you are setting values in a column of a DataFrame, like:\n",
      "\n",
      "df[\"col\"][row_indexer] = value\n",
      "\n",
      "Use `df.loc[row_indexer, \"col\"] = values` instead, to perform the assignment in a single step and ensure this keeps updating the original `df`.\n",
      "\n",
      "See the caveats in the documentation: https://pandas.pydata.org/pandas-docs/stable/user_guide/indexing.html#returning-a-view-versus-a-copy\n",
      "\n",
      "  df[\"Office\"][i]=df[\"Office\"][i].replace(\", 'Senior'\",'')\n",
      "/tmp/ipykernel_293/2746766153.py:17: FutureWarning: ChainedAssignmentError: behaviour will change in pandas 3.0!\n",
      "You are setting values through chained assignment. Currently this works in certain cases, but when using Copy-on-Write (which will become the default behaviour in pandas 3.0) this will never work to update the original DataFrame or Series, because the intermediate object on which we are setting values will behave as a copy.\n",
      "A typical example is when you are setting values in a column of a DataFrame, like:\n",
      "\n",
      "df[\"col\"][row_indexer] = value\n",
      "\n",
      "Use `df.loc[row_indexer, \"col\"] = values` instead, to perform the assignment in a single step and ensure this keeps updating the original `df`.\n",
      "\n",
      "See the caveats in the documentation: https://pandas.pydata.org/pandas-docs/stable/user_guide/indexing.html#returning-a-view-versus-a-copy\n",
      "\n",
      "  df[\"Senior\"][i]=df[\"Senior\"][i].replace(\", 'Age'\",'')\n",
      "/tmp/ipykernel_293/2746766153.py:19: FutureWarning: ChainedAssignmentError: behaviour will change in pandas 3.0!\n",
      "You are setting values through chained assignment. Currently this works in certain cases, but when using Copy-on-Write (which will become the default behaviour in pandas 3.0) this will never work to update the original DataFrame or Series, because the intermediate object on which we are setting values will behave as a copy.\n",
      "A typical example is when you are setting values in a column of a DataFrame, like:\n",
      "\n",
      "df[\"col\"][row_indexer] = value\n",
      "\n",
      "Use `df.loc[row_indexer, \"col\"] = values` instead, to perform the assignment in a single step and ensure this keeps updating the original `df`.\n",
      "\n",
      "See the caveats in the documentation: https://pandas.pydata.org/pandas-docs/stable/user_guide/indexing.html#returning-a-view-versus-a-copy\n",
      "\n",
      "  df[\"Age\"][i]=df[\"Age\"][i].replace(\", 'Spec'\",'')\n",
      "/tmp/ipykernel_293/2746766153.py:21: FutureWarning: ChainedAssignmentError: behaviour will change in pandas 3.0!\n",
      "You are setting values through chained assignment. Currently this works in certain cases, but when using Copy-on-Write (which will become the default behaviour in pandas 3.0) this will never work to update the original DataFrame or Series, because the intermediate object on which we are setting values will behave as a copy.\n",
      "A typical example is when you are setting values in a column of a DataFrame, like:\n",
      "\n",
      "df[\"col\"][row_indexer] = value\n",
      "\n",
      "Use `df.loc[row_indexer, \"col\"] = values` instead, to perform the assignment in a single step and ensure this keeps updating the original `df`.\n",
      "\n",
      "See the caveats in the documentation: https://pandas.pydata.org/pandas-docs/stable/user_guide/indexing.html#returning-a-view-versus-a-copy\n",
      "\n",
      "  df[\"Spec\"][i]=df[\"Spec\"][i].replace(\", 'School'\",'')\n"
     ]
    },
    {
     "data": {
      "text/html": [
       "<div>\n",
       "<style scoped>\n",
       "    .dataframe tbody tr th:only-of-type {\n",
       "        vertical-align: middle;\n",
       "    }\n",
       "\n",
       "    .dataframe tbody tr th {\n",
       "        vertical-align: top;\n",
       "    }\n",
       "\n",
       "    .dataframe thead th {\n",
       "        text-align: right;\n",
       "    }\n",
       "</style>\n",
       "<table border=\"1\" class=\"dataframe\">\n",
       "  <thead>\n",
       "    <tr style=\"text-align: right;\">\n",
       "      <th></th>\n",
       "      <th>status</th>\n",
       "      <th>Gender</th>\n",
       "      <th>Office</th>\n",
       "      <th>Senior</th>\n",
       "      <th>Age</th>\n",
       "      <th>Spec</th>\n",
       "      <th>School</th>\n",
       "    </tr>\n",
       "  </thead>\n",
       "  <tbody>\n",
       "    <tr>\n",
       "      <th>0</th>\n",
       "      <td>1</td>\n",
       "      <td>1</td>\n",
       "      <td>1</td>\n",
       "      <td>31</td>\n",
       "      <td>64</td>\n",
       "      <td>1</td>\n",
       "      <td>1</td>\n",
       "    </tr>\n",
       "    <tr>\n",
       "      <th>1</th>\n",
       "      <td>1</td>\n",
       "      <td>1</td>\n",
       "      <td>1</td>\n",
       "      <td>32</td>\n",
       "      <td>62</td>\n",
       "      <td>2</td>\n",
       "      <td>1</td>\n",
       "    </tr>\n",
       "    <tr>\n",
       "      <th>2</th>\n",
       "      <td>1</td>\n",
       "      <td>1</td>\n",
       "      <td>2</td>\n",
       "      <td>13</td>\n",
       "      <td>67</td>\n",
       "      <td>1</td>\n",
       "      <td>1</td>\n",
       "    </tr>\n",
       "    <tr>\n",
       "      <th>3</th>\n",
       "      <td>1</td>\n",
       "      <td>1</td>\n",
       "      <td>1</td>\n",
       "      <td>31</td>\n",
       "      <td>59</td>\n",
       "      <td>2</td>\n",
       "      <td>3</td>\n",
       "    </tr>\n",
       "    <tr>\n",
       "      <th>4</th>\n",
       "      <td>1</td>\n",
       "      <td>1</td>\n",
       "      <td>2</td>\n",
       "      <td>31</td>\n",
       "      <td>59</td>\n",
       "      <td>1</td>\n",
       "      <td>2</td>\n",
       "    </tr>\n",
       "    <tr>\n",
       "      <th>...</th>\n",
       "      <td>...</td>\n",
       "      <td>...</td>\n",
       "      <td>...</td>\n",
       "      <td>...</td>\n",
       "      <td>...</td>\n",
       "      <td>...</td>\n",
       "      <td>...</td>\n",
       "    </tr>\n",
       "    <tr>\n",
       "      <th>66</th>\n",
       "      <td>2</td>\n",
       "      <td>2</td>\n",
       "      <td>1</td>\n",
       "      <td>1</td>\n",
       "      <td>35</td>\n",
       "      <td>1</td>\n",
       "      <td>2</td>\n",
       "    </tr>\n",
       "    <tr>\n",
       "      <th>67</th>\n",
       "      <td>2</td>\n",
       "      <td>1</td>\n",
       "      <td>1</td>\n",
       "      <td>1</td>\n",
       "      <td>26</td>\n",
       "      <td>1</td>\n",
       "      <td>3</td>\n",
       "    </tr>\n",
       "    <tr>\n",
       "      <th>68</th>\n",
       "      <td>2</td>\n",
       "      <td>2</td>\n",
       "      <td>1</td>\n",
       "      <td>1</td>\n",
       "      <td>38</td>\n",
       "      <td>1</td>\n",
       "      <td>3</td>\n",
       "    </tr>\n",
       "    <tr>\n",
       "      <th>69</th>\n",
       "      <td>2</td>\n",
       "      <td>1</td>\n",
       "      <td>1</td>\n",
       "      <td>1</td>\n",
       "      <td>31</td>\n",
       "      <td>2</td>\n",
       "      <td>2</td>\n",
       "    </tr>\n",
       "    <tr>\n",
       "      <th>70</th>\n",
       "      <td>2</td>\n",
       "      <td>2</td>\n",
       "      <td>1</td>\n",
       "      <td>1</td>\n",
       "      <td>26</td>\n",
       "      <td>1</td>\n",
       "      <td>2</td>\n",
       "    </tr>\n",
       "  </tbody>\n",
       "</table>\n",
       "<p>71 rows × 7 columns</p>\n",
       "</div>"
      ],
      "text/plain": [
       "   status Gender Office Senior  Age Spec School\n",
       "0       1      1      1     31   64    1      1\n",
       "1       1      1      1     32   62    2      1\n",
       "2       1      1      2     13   67    1      1\n",
       "3       1      1      1     31   59    2      3\n",
       "4       1      1      2     31   59    1      2\n",
       "..    ...    ...    ...    ...  ...  ...    ...\n",
       "66      2      2      1      1   35    1      2\n",
       "67      2      1      1      1   26    1      3\n",
       "68      2      2      1      1   38    1      3\n",
       "69      2      1      1      1   31    2      2\n",
       "70      2      2      1      1   26    1      2\n",
       "\n",
       "[71 rows x 7 columns]"
      ]
     },
     "execution_count": 54,
     "metadata": {},
     "output_type": "execute_result"
    }
   ],
   "source": [
    "#Conversion of the attributes in a dataframe\n",
    "df = pd.DataFrame.from_dict(ELNodeData)\n",
    "df[1] = df[1].astype(str)\n",
    "df = df[1].str.split(\":\", expand=True)\n",
    "df = df.rename(columns={1 : 'status', 2: 'Gender', 3: 'Office', 4:'Senior', 5:'Age', 6:'Spec', 7:'School'})\n",
    "df = df.drop(0, axis=1)\n",
    "#We just keep the value\n",
    "for i in range(0, df.shape[0]):\n",
    "        df[\"School\"][i]=df[\"School\"][i].replace(\"}\",'')\n",
    "for i in range(0, df.shape[0]):\n",
    "        df[\"status\"][i]=df[\"status\"][i].replace(\", 'Gender'\",'')\n",
    "for i in range(0, df.shape[0]):\n",
    "        df[\"Gender\"][i]=df[\"Gender\"][i].replace(\", 'Office'\",'')\n",
    "for i in range(0, df.shape[0]):\n",
    "        df[\"Office\"][i]=df[\"Office\"][i].replace(\", 'Senior'\",'')\n",
    "for i in range(0, df.shape[0]):\n",
    "        df[\"Senior\"][i]=df[\"Senior\"][i].replace(\", 'Age'\",'')\n",
    "for i in range(0, df.shape[0]):\n",
    "        df[\"Age\"][i]=df[\"Age\"][i].replace(\", 'Spec'\",'')\n",
    "for i in range(0, df.shape[0]):\n",
    "        df[\"Spec\"][i]=df[\"Spec\"][i].replace(\", 'School'\",'')\n",
    "\n",
    "df"
   ]
  },
  {
   "cell_type": "code",
   "execution_count": 79,
   "id": "46be24b2-d882-499f-837e-bda26bd55c69",
   "metadata": {},
   "outputs": [
    {
     "data": {
      "text/plain": [
       "<function matplotlib.pyplot.show(close=None, block=None)>"
      ]
     },
     "execution_count": 79,
     "metadata": {},
     "output_type": "execute_result"
    },
    {
     "data": {
      "image/png": "[encoded data removed]",
      "text/plain": [
       "<Figure size 640x480 with 1 Axes>"
      ]
     },
     "metadata": {},
     "output_type": "display_data"
    }
   ],
   "source": [
    "#Repartition of partner and associate by gender \n",
    "for colonne in df.columns: #Convert in number \n",
    "    df[colonne] = pd.to_numeric(df[colonne])\n",
    "\n",
    "#Number of status by gender\n",
    "nb_pm = df[(df['status'] == 1) & (df['Gender'] == 1)].shape[0] #Number of men partner \n",
    "nb_pf = df[(df['status'] == 1) & (df['Gender'] == 2)].shape[0] #Number of women partner \n",
    "nb_am = df[(df['status'] == 2) & (df['Gender'] == 1)].shape[0] #Number of men associate \n",
    "nb_af = df[(df['status'] == 2) & (df['Gender'] == 2)].shape[0] #Number of women associate\n",
    "\n",
    "#proportion\n",
    "prop_pm = nb_pm/(nb_pm + nb_am)\n",
    "prop_pf = nb_pf/(nb_pf + nb_af)\n",
    "\n",
    "#graph\n",
    "plt.bar([\"Men\", \"Women\"],[prop_pm, prop_pf], color =['Blue', 'red'])\n",
    "plt.ylabel('Proportion')\n",
    "plt.title ('Proportion of partner by gender')\n",
    "plt.show"
   ]
  },
  {
   "cell_type": "markdown",
   "id": "bb1eb33b-3a43-4642-862e-65aa58872d5b",
   "metadata": {},
   "source": [
    "Here, we will compare distribution of centrality by gender. We will look it for advice, for example. \n",
    "\n",
    "Note des trus à faire :\n",
    "- Comparer centralité\n",
    "- Random graph\n",
    "- Comparer statuts"
   ]
  },
  {
   "cell_type": "code",
   "execution_count": 39,
   "id": "b2e20f95-a1a7-410f-b04f-37a7efdbbf17",
   "metadata": {},
   "outputs": [
    {
     "data": {
      "text/plain": [
       "71"
      ]
     },
     "execution_count": 39,
     "metadata": {},
     "output_type": "execute_result"
    }
   ],
   "source": [
    "df.shape[0]"
   ]
  },
  {
   "cell_type": "code",
   "execution_count": 66,
   "id": "ca011744-0506-41ea-be53-327a918458f3",
   "metadata": {},
   "outputs": [
    {
     "data": {
      "text/plain": [
       "Index(['status', 'Gender', 'Office', 'Senior', 'Age', 'Spec', 'School'], dtype='object')"
      ]
     },
     "execution_count": 66,
     "metadata": {},
     "output_type": "execute_result"
    }
   ],
   "source": [
    "df.columns"
   ]
  },
  {
   "cell_type": "code",
   "execution_count": null,
   "id": "a18570da-b1b3-4bba-a714-cb9ad42ee746",
   "metadata": {},
   "outputs": [],
   "source": []
  }
 ],
 "metadata": {
  "kernelspec": {
   "display_name": "Python 3 (ipykernel)",
   "language": "python",
   "name": "python3"
  },
  "language_info": {
   "codemirror_mode": {
    "name": "ipython",
    "version": 3
   },
   "file_extension": ".py",
   "mimetype": "text/x-python",
   "name": "python",
   "nbconvert_exporter": "python",
   "pygments_lexer": "ipython3",
   "version": "3.11.6"
  }
 },
 "nbformat": 4,
 "nbformat_minor": 5
}
