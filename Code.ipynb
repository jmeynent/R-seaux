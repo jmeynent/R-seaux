{
 "cells": [
  {
   "cell_type": "code",
   "execution_count": 3,
   "id": "a6cde716-3263-488b-a3db-7a1664b7be42",
   "metadata": {},
   "outputs": [],
   "source": [
    "#Packages\n",
    "import networkx as nx\n",
    "import matplotlib.pyplot as plt\n",
    "import pandas as pd\n",
    "import numpy as np"
   ]
  },
  {
   "cell_type": "code",
   "execution_count": 6,
   "id": "c31d8dcc-7255-4c0a-8917-2320493e6c9d",
   "metadata": {},
   "outputs": [],
   "source": [
    "#Importation of networks and attributes\n",
    "ELadvice=  nx.read_edgelist('ELadvice_edgelist.txt',comments=\"node\",create_using=nx.DiGraph(),nodetype=int)\n",
    "ELcowork =  nx.read_edgelist('ELcowork_edgelist.txt',comments=\"node\",create_using=nx.Graph(),nodetype=int)\n",
    "ELfriend = nx.read_edgelist('ELfriend_edgelist.txt',comments=\"node\",create_using=nx.DiGraph(),nodetype=int)\n",
    "attr = pd.read_table('ELnodeAttributes.txt', sep = \"\\t\")"
   ]
  },
  {
   "cell_type": "code",
   "execution_count": 7,
   "id": "37c083d3-bb13-4e68-bd95-1e961d2ad926",
   "metadata": {},
   "outputs": [],
   "source": [
    "#On associe attributs au réseau ami\n",
    "ELNodeData = attr.set_index('Node').to_dict('index').items()\n",
    "ELfriend.add_nodes_from(ELNodeData)"
   ]
  },
  {
   "cell_type": "code",
   "execution_count": 8,
   "id": "c499f059-0412-478d-9d20-dc45bdee07f3",
   "metadata": {},
   "outputs": [
    {
     "data": {
      "text/plain": [
       "Gender\n",
       "1    0.746479\n",
       "2    0.253521\n",
       "Name: proportion, dtype: float64"
      ]
     },
     "execution_count": 8,
     "metadata": {},
     "output_type": "execute_result"
    }
   ],
   "source": [
    "#Compte de la répartition genrée \n",
    "attr['Gender'].value_counts(normalize=True)"
   ]
  },
  {
   "cell_type": "code",
   "execution_count": 29,
   "id": "7a7161f8-1081-4966-b7ac-4c7c8e3f1729",
   "metadata": {},
   "outputs": [],
   "source": [
    "Deg = dict(ELfriend.in_degree())"
   ]
  },
  {
   "cell_type": "code",
   "execution_count": 30,
   "id": "ff43047b-5bf2-458f-a3ee-f88c8b041814",
   "metadata": {},
   "outputs": [
    {
     "name": "stdout",
     "output_type": "stream",
     "text": [
      "Nombre moyen de degrés par genre:\n",
      "1: 8.056603773584905\n",
      "2: 8.222222222222221\n"
     ]
    }
   ],
   "source": [
    "genre_degrees = {}\n",
    "for node, data in ELNodeData:  # itérant à travers chaque élément du dict_items\n",
    "    genre = data.get('Gender')  # Récupérer le genre à partir des données du nœud\n",
    "    if genre:\n",
    "        if genre not in genre_degrees:\n",
    "            genre_degrees[genre] = []\n",
    "        genre_degrees[genre].append(Deg.get(node, 0))\n",
    "\n",
    "# Calculer le nombre moyen de degrés par genre\n",
    "average_degree_by_genre = {}\n",
    "for genre, degrees in genre_degrees.items():\n",
    "    average_degree_by_genre[genre] = sum(degrees) / len(degrees)\n",
    "\n",
    "# Afficher le résultat\n",
    "print(\"Nombre moyen de degrés par genre:\")\n",
    "for genre, avg_degree in average_degree_by_genre.items():\n",
    "    print(f\"{genre}: {avg_degree}\")"
   ]
  },
  {
   "cell_type": "code",
   "execution_count": null,
   "id": "a20981c1-0d27-4dca-92fd-6c858aef1c50",
   "metadata": {},
   "outputs": [],
   "source": []
  }
 ],
 "metadata": {
  "kernelspec": {
   "display_name": "Python 3 (ipykernel)",
   "language": "python",
   "name": "python3"
  },
  "language_info": {
   "codemirror_mode": {
    "name": "ipython",
    "version": 3
   },
   "file_extension": ".py",
   "mimetype": "text/x-python",
   "name": "python",
   "nbconvert_exporter": "python",
   "pygments_lexer": "ipython3",
   "version": "3.11.6"
  }
 },
 "nbformat": 4,
 "nbformat_minor": 5
}
